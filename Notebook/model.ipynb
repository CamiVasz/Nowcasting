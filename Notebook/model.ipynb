{
 "cells": [
  {
   "cell_type": "code",
   "execution_count": 1,
   "metadata": {},
   "outputs": [
    {
     "data": {
      "text/plain": [
       "'1.10.0'"
      ]
     },
     "execution_count": 1,
     "metadata": {},
     "output_type": "execute_result"
    }
   ],
   "source": [
    "import tensorflow as tf\n",
    "import cv2\n",
    "import numpy as np\n",
    "import matplotlib.pyplot as plt\n",
    "tf.__version__"
   ]
  },
  {
   "cell_type": "code",
   "execution_count": 7,
   "metadata": {},
   "outputs": [
    {
     "name": "stdout",
     "output_type": "stream",
     "text": [
      " \u001b[0m\u001b[01;35m14-02-25-09:04.jpg\u001b[0m\n",
      " \u001b[01;34macademic\u001b[0m/\n",
      " A.ipynb\n",
      " A.py\n",
      " \u001b[01;34mcamila\u001b[0m/\n",
      " checkpoint\n",
      " Datos-procesados1.csv\n",
      " Datos-procesados.csv\n",
      " Dropbox.ipynb\n",
      " environment.yml\n",
      "\u001b[01;34m'first inference graph'\u001b[0m/\n",
      " Fourier.ipynb\n",
      " frozen_inference_graph.pb\n",
      " imgaug.ipynb\n",
      " LICENSE\n",
      " model.ckpt.data-00000-of-00001\n",
      " model.ckpt.index\n",
      " model.ckpt.meta\n",
      " model.ipynb\n",
      " \u001b[01;34mmodels\u001b[0m/\n",
      "\u001b[01;32m'Object counting from images.ipynb'\u001b[0m*\n",
      " README.md\n",
      " \u001b[01;34mresults\u001b[0m/\n",
      " \u001b[01;34mScripts\u001b[0m/\n",
      " \u001b[01;34mtest_labels\u001b[0m/\n",
      "\u001b[01;32m'Time series analysis for the unemployment rate.ipynb'\u001b[0m*\n",
      " \u001b[01;34mtrain\u001b[0m/\n",
      " training.ipynb\n",
      " \u001b[01;34mtrain_labels\u001b[0m/\n",
      " t.txt\n",
      " Untitled1.ipynb\n",
      " Untitled.ipynb\n",
      " \u001b[01;34mval\u001b[0m/\n"
     ]
    }
   ],
   "source": [
    "ls"
   ]
  },
  {
   "cell_type": "code",
   "execution_count": 18,
   "metadata": {
    "scrolled": false
   },
   "outputs": [
    {
     "name": "stdout",
     "output_type": "stream",
     "text": [
      "INFO:tensorflow:Restoring parameters from model.ckpt\n"
     ]
    }
   ],
   "source": [
    "with tf.Session() as sess:\n",
    "    new_saver = tf.train.import_meta_graph('model.ckpt.meta')\n",
    "    new_saver.restore(sess, 'model.ckpt')\n",
    "\n",
    "    # Input tensor is the image\n",
    "    image_tensor = tf.get_default_graph().get_tensor_by_name(\"image_tensor:0\")\n",
    "\n",
    "    # Output tensors are the detection boxes, scores, and classes\n",
    "    # Each box represents a part of the image where a particular object was detected\n",
    "    detection_boxes = tf.get_default_graph().get_tensor_by_name('detection_boxes:0')\n",
    "\n",
    "    # Each score represents level of confidence for each of the objects.\n",
    "    # The score is shown on the result image, together with the class label.\n",
    "    detection_scores = tf.get_default_graph().get_tensor_by_name('detection_scores:0')\n",
    "    detection_classes = tf.get_default_graph().get_tensor_by_name('detection_classes:0')\n",
    "\n",
    "    # Number of objects detected\n",
    "    num_detections = tf.get_default_graph().get_tensor_by_name('num_detections:0')\n",
    "\n",
    "    image = cv2.imread('14-02-25-09:04.jpg')/255\n",
    "    image = cv2.resize(image,(100, 68)) \n",
    "    #image = cv2.cvtColor(image, cv2.COLOR_BGR2RGB)\n",
    "    image_expanded = np.expand_dims(image, axis=0)\n",
    "    (boxes, scores, classes, num) = sess.run(\n",
    "        [detection_boxes, detection_scores, detection_classes, num_detections],\n",
    "        feed_dict={image_tensor: image_expanded})"
   ]
  },
  {
   "cell_type": "code",
   "execution_count": 19,
   "metadata": {},
   "outputs": [
    {
     "data": {
      "text/plain": [
       "array([[[0.70203922, 0.63145098, 0.63537255],\n",
       "        [0.66297347, 0.60414994, 0.61983622],\n",
       "        [0.64845445, 0.60431373, 0.61215686],\n",
       "        ...,\n",
       "        [0.08483387, 0.06640221, 0.06993172],\n",
       "        [0.05928257, 0.05928257, 0.05928257],\n",
       "        [0.0590519 , 0.0590519 , 0.0590519 ]],\n",
       "\n",
       "       [[0.67807843, 0.62317647, 0.62709804],\n",
       "        [0.67864591, 0.60021453, 0.61982238],\n",
       "        [0.65599769, 0.59991926, 0.60815455],\n",
       "        ...,\n",
       "        [0.8329164 , 0.83213227, 0.83213227],\n",
       "        [0.14958669, 0.14958669, 0.14958669],\n",
       "        [0.0627451 , 0.0627451 , 0.0627451 ]],\n",
       "\n",
       "       [[0.6673218 , 0.61946251, 0.60506343],\n",
       "        [0.69064359, 0.6009181 , 0.63229065],\n",
       "        [0.67843137, 0.61176471, 0.62739331],\n",
       "        ...,\n",
       "        [0.82515335, 0.82515335, 0.82515335],\n",
       "        [0.91865051, 0.91865051, 0.91865051],\n",
       "        [0.0627451 , 0.0627451 , 0.0627451 ]],\n",
       "\n",
       "       ...,\n",
       "\n",
       "       [[0.69798385, 0.64304729, 0.65090196],\n",
       "        [0.7092618 , 0.62806231, 0.63982701],\n",
       "        [0.68272207, 0.61683972, 0.63252599],\n",
       "        ...,\n",
       "        [0.48904263, 0.37254902, 0.36862745],\n",
       "        [0.49435293, 0.38012227, 0.3460162 ],\n",
       "        [0.43929419, 0.35309819, 0.36070581]],\n",
       "\n",
       "       [[0.71310503, 0.63875209, 0.65059523],\n",
       "        [0.65989616, 0.62852361, 0.63220989],\n",
       "        [0.66504053, 0.62546729, 0.62618241],\n",
       "        ...,\n",
       "        [0.45552475, 0.37254902, 0.36470588],\n",
       "        [0.43613143, 0.38734956, 0.34869438],\n",
       "        [0.44306567, 0.37928955, 0.3566988 ]],\n",
       "\n",
       "       [[0.67420294, 0.61929868, 0.62729867],\n",
       "        [0.68164013, 0.63112577, 0.63849832],\n",
       "        [0.66617068, 0.63076119, 0.61934259],\n",
       "        ...,\n",
       "        [0.47792394, 0.38089959, 0.37305645],\n",
       "        [0.47186401, 0.39677064, 0.36979023],\n",
       "        [0.4389433 , 0.38058603, 0.34517407]]])"
      ]
     },
     "execution_count": 19,
     "metadata": {},
     "output_type": "execute_result"
    }
   ],
   "source": [
    "image"
   ]
  },
  {
   "cell_type": "code",
   "execution_count": 20,
   "metadata": {
    "scrolled": true
   },
   "outputs": [
    {
     "data": {
      "text/plain": [
       "array([[0.22318342, 0.22318259, 0.22318046, 0.2231773 , 0.2231769 ,\n",
       "        0.22317061, 0.2180773 , 0.21739687, 0.21652819, 0.21205325,\n",
       "        0.21025671, 0.20856102, 0.20855816, 0.20855784, 0.20855683,\n",
       "        0.20855545, 0.20855485, 0.2057242 , 0.20139594, 0.20133866,\n",
       "        0.20104897, 0.20104565, 0.20104562, 0.20104474, 0.2010421 ,\n",
       "        0.20104085, 0.20064475, 0.20020714, 0.19949214, 0.19949211,\n",
       "        0.199492  , 0.19949137, 0.1991514 , 0.19914879, 0.19914015,\n",
       "        0.19914015, 0.19914015, 0.19914015, 0.19914015, 0.19886875,\n",
       "        0.19886658, 0.19886616, 0.19886263, 0.19886263, 0.19885875,\n",
       "        0.19884191, 0.1984134 , 0.1984067 , 0.19840643, 0.19840525,\n",
       "        0.19827254, 0.19827023, 0.19826925, 0.19826844, 0.19805263,\n",
       "        0.19792807, 0.19781299, 0.19781299, 0.19781299, 0.19781299,\n",
       "        0.19773726, 0.19773397, 0.1977314 , 0.1977311 , 0.19773057,\n",
       "        0.19772962, 0.19772919, 0.19772783, 0.19772777, 0.19772774,\n",
       "        0.19772767, 0.19772725, 0.19772723, 0.19772723, 0.19772717,\n",
       "        0.19772713, 0.19772705, 0.19772705, 0.19772705, 0.19772705,\n",
       "        0.19772705, 0.19772705, 0.19772705, 0.19772705, 0.19772705,\n",
       "        0.19772705, 0.19772705, 0.19772705, 0.19772705, 0.19772705,\n",
       "        0.19772705, 0.19772705, 0.19772705, 0.19772705, 0.19772705,\n",
       "        0.19772705, 0.19772705, 0.19772705, 0.19772705, 0.197727  ]],\n",
       "      dtype=float32)"
      ]
     },
     "execution_count": 20,
     "metadata": {},
     "output_type": "execute_result"
    }
   ],
   "source": [
    "scores"
   ]
  },
  {
   "cell_type": "code",
   "execution_count": 10,
   "metadata": {},
   "outputs": [],
   "source": [
    "h, w, _ = image.shape\n",
    "scale = np.array([h, w, h, w]).reshape(1, 1, 4)"
   ]
  },
  {
   "cell_type": "code",
   "execution_count": 11,
   "metadata": {},
   "outputs": [
    {
     "data": {
      "text/plain": [
       "array([ 5.25045946,  7.79405087, 17.39010429, 21.76323086])"
      ]
     },
     "execution_count": 11,
     "metadata": {},
     "output_type": "execute_result"
    }
   ],
   "source": [
    "vox = boxes[0, 0, :] * scale\n",
    "vox = vox[0, 0, :]\n",
    "vox"
   ]
  },
  {
   "cell_type": "code",
   "execution_count": 12,
   "metadata": {},
   "outputs": [
    {
     "data": {
      "text/plain": [
       "(array([5.25045946, 7.79405087]), 12.139644831418991, 13.96917998790741)"
      ]
     },
     "execution_count": 12,
     "metadata": {},
     "output_type": "execute_result"
    }
   ],
   "source": [
    "#xmin, ymin, xmax, ymax \n",
    "params = vox[:2], vox[2] - vox[0], vox[3] - vox[1]\n",
    "params"
   ]
  },
  {
   "cell_type": "code",
   "execution_count": 15,
   "metadata": {},
   "outputs": [
    {
     "ename": "NameError",
     "evalue": "name 'patches' is not defined",
     "output_type": "error",
     "traceback": [
      "\u001b[0;31m---------------------------------------------------------------------------\u001b[0m",
      "\u001b[0;31mNameError\u001b[0m                                 Traceback (most recent call last)",
      "\u001b[0;32m<ipython-input-15-b25b5fff9337>\u001b[0m in \u001b[0;36m<module>\u001b[0;34m()\u001b[0m\n\u001b[1;32m      3\u001b[0m \u001b[0;34m\u001b[0m\u001b[0m\n\u001b[1;32m      4\u001b[0m \u001b[0;31m# Create a Rectangle patch\u001b[0m\u001b[0;34m\u001b[0m\u001b[0;34m\u001b[0m\u001b[0m\n\u001b[0;32m----> 5\u001b[0;31m \u001b[0mrect\u001b[0m \u001b[0;34m=\u001b[0m \u001b[0mpatches\u001b[0m\u001b[0;34m.\u001b[0m\u001b[0mRectangle\u001b[0m\u001b[0;34m(\u001b[0m\u001b[0;34m*\u001b[0m\u001b[0mparams\u001b[0m\u001b[0;34m,\u001b[0m\u001b[0mlinewidth\u001b[0m\u001b[0;34m=\u001b[0m\u001b[0;36m1\u001b[0m\u001b[0;34m,\u001b[0m\u001b[0medgecolor\u001b[0m\u001b[0;34m=\u001b[0m\u001b[0;34m'r'\u001b[0m\u001b[0;34m,\u001b[0m\u001b[0mfacecolor\u001b[0m\u001b[0;34m=\u001b[0m\u001b[0;34m'none'\u001b[0m\u001b[0;34m)\u001b[0m\u001b[0;34m\u001b[0m\u001b[0m\n\u001b[0m\u001b[1;32m      6\u001b[0m \u001b[0;34m\u001b[0m\u001b[0m\n\u001b[1;32m      7\u001b[0m \u001b[0;31m# Add the patch to the Axes\u001b[0m\u001b[0;34m\u001b[0m\u001b[0;34m\u001b[0m\u001b[0m\n",
      "\u001b[0;31mNameError\u001b[0m: name 'patches' is not defined"
     ]
    },
    {
     "data": {
      "image/png": "[encoded data removed]",
      "text/plain": [
       "<matplotlib.figure.Figure at 0x7f3edc038da0>"
      ]
     },
     "metadata": {
      "needs_background": "light"
     },
     "output_type": "display_data"
    }
   ],
   "source": [
    "fig,ax = plt.subplots(1)\n",
    "ax.imshow(image)\n",
    "\n",
    "# Create a Rectangle patch\n",
    "rect = patches.Rectangle(*params,linewidth=1,edgecolor='r',facecolor='none')\n",
    "\n",
    "# Add the patch to the Axes\n",
    "ax.add_patch(rect)\n",
    "\n",
    "plt.show()"
   ]
  },
  {
   "cell_type": "code",
   "execution_count": 14,
   "metadata": {},
   "outputs": [],
   "source": [
    "import cv2\n",
    "import numpy as np"
   ]
  },
  {
   "cell_type": "code",
   "execution_count": 31,
   "metadata": {},
   "outputs": [],
   "source": [
    "th = 0.5"
   ]
  },
  {
   "cell_type": "code",
   "execution_count": 16,
   "metadata": {},
   "outputs": [
    {
     "ename": "ImportError",
     "evalue": "cannot import name 'pathces'",
     "output_type": "error",
     "traceback": [
      "\u001b[0;31m---------------------------------------------------------------------------\u001b[0m",
      "\u001b[0;31mImportError\u001b[0m                               Traceback (most recent call last)",
      "\u001b[0;32m<ipython-input-16-11aae7c4947f>\u001b[0m in \u001b[0;36m<module>\u001b[0;34m()\u001b[0m\n\u001b[0;32m----> 1\u001b[0;31m \u001b[0;32mfrom\u001b[0m \u001b[0mmatplotlib\u001b[0m \u001b[0;32mimport\u001b[0m \u001b[0mpathces\u001b[0m\u001b[0;34m\u001b[0m\u001b[0m\n\u001b[0m",
      "\u001b[0;31mImportError\u001b[0m: cannot import name 'pathces'"
     ]
    }
   ],
   "source": [
    "from matplotlib import pathces"
   ]
  },
  {
   "cell_type": "code",
   "execution_count": null,
   "metadata": {},
   "outputs": [],
   "source": []
  }
 ],
 "metadata": {
  "kernelspec": {
   "display_name": "Python 3",
   "language": "python",
   "name": "python3"
  },
  "language_info": {
   "codemirror_mode": {
    "name": "ipython",
    "version": 3
   },
   "file_extension": ".py",
   "mimetype": "text/x-python",
   "name": "python",
   "nbconvert_exporter": "python",
   "pygments_lexer": "ipython3",
   "version": "3.5.0"
  }
 },
 "nbformat": 4,
 "nbformat_minor": 2
}
