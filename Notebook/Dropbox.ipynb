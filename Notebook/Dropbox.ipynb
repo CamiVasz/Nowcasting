{
 "cells": [
  {
   "cell_type": "code",
   "execution_count": 3,
   "metadata": {},
   "outputs": [],
   "source": [
    "import dropbox\n",
    "from tqdm import tqdm\n",
    "import os\n",
    "import shutil"
   ]
  },
  {
   "cell_type": "code",
   "execution_count": 4,
   "metadata": {},
   "outputs": [],
   "source": [
    "dbx = dropbox.Dropbox(\"vGFLu5xtnHAAAAAAAAS7DmRERB_66djuevzOu_qUF2qztV8yetU0aWazCq__KSTY\")"
   ]
  },
  {
   "cell_type": "code",
   "execution_count": 5,
   "metadata": {},
   "outputs": [
    {
     "name": "stdout",
     "output_type": "stream",
     "text": [
      "/3_pregrado/juliana_vallejo/planet\n",
      "/3_pregrado/juliana_vallejo/landsat\n",
      "/3_pregrado/juliana_vallejo/sentinel\n",
      "/3_pregrado/juliana_vallejo/imagesescaladasequalizadas\n",
      "/3_pregrado/juliana_vallejo/escaladas_recortadas\n",
      "/3_pregrado/juliana_vallejo/recortadas\n",
      "/3_pregrado/juliana_vallejo/malla20_clip2_stretched\n",
      "/3_pregrado/juliana_vallejo/quickbird_resoluciones\n",
      "/3_pregrado/juliana_vallejo/ditribuciones r2 - aut3_09\n",
      "/3_pregrado/juliana_vallejo/errores por regiones\n"
     ]
    }
   ],
   "source": [
    "folders = []\n",
    "for entry in dbx.files_list_folder('/3_pregrado/juliana_vallejo', limit=None).entries:\n",
    "    folders.append(entry.path_lower)\n",
    "    print(entry.path_lower)"
   ]
  },
  {
   "cell_type": "code",
   "execution_count": 7,
   "metadata": {},
   "outputs": [
    {
     "data": {
      "text/plain": [
       "'for i in folders:\\n    try:\\n        os.stat(i[34:])\\n    except:\\n        os.mkdir(i[34:])\\n    files = []\\n    print(i)\\n    for entry in dbx.files_list_folder(i, limit=None).entries:\\n        files.append(entry.path_lower)\\n    for img in tqdm(files):\\n        dbx.files_download_to_file(img[34:], img, None)\\n    shutil.rmtree(i[34:])'"
      ]
     },
     "execution_count": 7,
     "metadata": {},
     "output_type": "execute_result"
    }
   ],
   "source": [
    "'''for i in folders:\n",
    "    try:\n",
    "        os.stat(i[34:])\n",
    "    except:\n",
    "        os.mkdir(i[34:])\n",
    "    files = []\n",
    "    print(i)\n",
    "    for entry in dbx.files_list_folder(i, limit=None).entries:\n",
    "        files.append(entry.path_lower)\n",
    "    for img in tqdm(files):\n",
    "        dbx.files_download_to_file(img[34:], img, None)\n",
    "    shutil.rmtree(i[34:])'''"
   ]
  },
  {
   "cell_type": "code",
   "execution_count": null,
   "metadata": {},
   "outputs": [],
   "source": []
  }
 ],
 "metadata": {
  "kernelspec": {
   "display_name": "Python 3",
   "language": "python",
   "name": "python3"
  },
  "language_info": {
   "codemirror_mode": {
    "name": "ipython",
    "version": 3
   },
   "file_extension": ".py",
   "mimetype": "text/x-python",
   "name": "python",
   "nbconvert_exporter": "python",
   "pygments_lexer": "ipython3",
   "version": "3.6.8"
  }
 },
 "nbformat": 4,
 "nbformat_minor": 2
}
