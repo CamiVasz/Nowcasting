{
 "cells": [
  {
   "cell_type": "markdown",
   "metadata": {},
   "source": [
    "# Training a model in the tensorflow model zoo"
   ]
  },
  {
   "cell_type": "markdown",
   "metadata": {},
   "source": [
    "First, make sure to run this notebook in the environment created for this purpose, called *RiSE-mvasqu49*. Pick a model from the repository [Tensorflow model zoo](https://github.com/tensorflow/models/blob/master/research/object_detection/g3doc/detection_model_zoo.md), and clone or download it. The following steps are performed following [this](https://github.com/EdjeElectronics/TensorFlow-Object-Detection-API-Tutorial-Train-Multiple-Objects-Windows-10) tutorial."
   ]
  },
  {
   "cell_type": "markdown",
   "metadata": {},
   "source": [
    "#### Download TensorFlow Object Detection API repository from GitHub\n",
    "Clone the models repository."
   ]
  },
  {
   "cell_type": "code",
   "execution_count": 1,
   "metadata": {},
   "outputs": [
    {
     "name": "stdout",
     "output_type": "stream",
     "text": [
      "fatal: destination path 'models' already exists and is not an empty directory.\n"
     ]
    }
   ],
   "source": [
    "!git clone https://github.com/tensorflow/models.git"
   ]
  },
  {
   "cell_type": "markdown",
   "metadata": {},
   "source": [
    "Go to a previous commit for the reppository, in order to perform correctly the training."
   ]
  },
  {
   "cell_type": "code",
   "execution_count": 2,
   "metadata": {},
   "outputs": [
    {
     "name": "stdout",
     "output_type": "stream",
     "text": [
      "/media/camivasz/D6E67D60E67D4233/Nowcasting/Notebook/models\n",
      "HEAD is now at 079d67d9 Merge pull request #3296 from unratito/patch-1\n"
     ]
    }
   ],
   "source": [
    "%cd models\n",
    "!git reset --hard 079d67d9a0b3407e8d074a200780f3835413ef99"
   ]
  },
  {
   "cell_type": "markdown",
   "metadata": {},
   "source": [
    "#### Compile Protobufs and run setup.py\n",
    "To use the object detection API from tensorflow.\n"
   ]
  },
  {
   "cell_type": "code",
   "execution_count": 3,
   "metadata": {
    "collapsed": true
   },
   "outputs": [
    {
     "name": "stdout",
     "output_type": "stream",
     "text": [
      "/media/camivasz/D6E67D60E67D4233/Nowcasting/Notebook/models/research\n",
      "running build\n",
      "running build_py\n",
      "copying object_detection/protos/anchor_generator_pb2.py -> build/lib/object_detection/protos\n",
      "copying object_detection/protos/argmax_matcher_pb2.py -> build/lib/object_detection/protos\n",
      "copying object_detection/protos/bipartite_matcher_pb2.py -> build/lib/object_detection/protos\n",
      "copying object_detection/protos/box_coder_pb2.py -> build/lib/object_detection/protos\n",
      "copying object_detection/protos/box_predictor_pb2.py -> build/lib/object_detection/protos\n",
      "copying object_detection/protos/eval_pb2.py -> build/lib/object_detection/protos\n",
      "copying object_detection/protos/faster_rcnn_box_coder_pb2.py -> build/lib/object_detection/protos\n",
      "copying object_detection/protos/faster_rcnn_pb2.py -> build/lib/object_detection/protos\n",
      "copying object_detection/protos/grid_anchor_generator_pb2.py -> build/lib/object_detection/protos\n",
      "copying object_detection/protos/hyperparams_pb2.py -> build/lib/object_detection/protos\n",
      "copying object_detection/protos/image_resizer_pb2.py -> build/lib/object_detection/protos\n",
      "copying object_detection/protos/input_reader_pb2.py -> build/lib/object_detection/protos\n",
      "copying object_detection/protos/keypoint_box_coder_pb2.py -> build/lib/object_detection/protos\n",
      "copying object_detection/protos/losses_pb2.py -> build/lib/object_detection/protos\n",
      "copying object_detection/protos/matcher_pb2.py -> build/lib/object_detection/protos\n",
      "copying object_detection/protos/mean_stddev_box_coder_pb2.py -> build/lib/object_detection/protos\n",
      "copying object_detection/protos/model_pb2.py -> build/lib/object_detection/protos\n",
      "copying object_detection/protos/optimizer_pb2.py -> build/lib/object_detection/protos\n",
      "copying object_detection/protos/pipeline_pb2.py -> build/lib/object_detection/protos\n",
      "copying object_detection/protos/post_processing_pb2.py -> build/lib/object_detection/protos\n",
      "copying object_detection/protos/preprocessor_pb2.py -> build/lib/object_detection/protos\n",
      "copying object_detection/protos/region_similarity_calculator_pb2.py -> build/lib/object_detection/protos\n",
      "copying object_detection/protos/square_box_coder_pb2.py -> build/lib/object_detection/protos\n",
      "copying object_detection/protos/ssd_anchor_generator_pb2.py -> build/lib/object_detection/protos\n",
      "copying object_detection/protos/ssd_pb2.py -> build/lib/object_detection/protos\n",
      "copying object_detection/protos/string_int_label_map_pb2.py -> build/lib/object_detection/protos\n",
      "copying object_detection/protos/train_pb2.py -> build/lib/object_detection/protos\n",
      "running egg_info\n",
      "writing object_detection.egg-info/PKG-INFO\n",
      "writing dependency_links to object_detection.egg-info/dependency_links.txt\n",
      "writing requirements to object_detection.egg-info/requires.txt\n",
      "writing top-level names to object_detection.egg-info/top_level.txt\n",
      "reading manifest file 'object_detection.egg-info/SOURCES.txt'\n",
      "writing manifest file 'object_detection.egg-info/SOURCES.txt'\n",
      "running install\n",
      "running bdist_egg\n",
      "running egg_info\n",
      "writing object_detection.egg-info/PKG-INFO\n",
      "writing dependency_links to object_detection.egg-info/dependency_links.txt\n",
      "writing requirements to object_detection.egg-info/requires.txt\n",
      "writing top-level names to object_detection.egg-info/top_level.txt\n",
      "reading manifest file 'object_detection.egg-info/SOURCES.txt'\n",
      "writing manifest file 'object_detection.egg-info/SOURCES.txt'\n",
      "installing library code to build/bdist.linux-x86_64/egg\n",
      "running install_lib\n",
      "running build_py\n",
      "creating build/bdist.linux-x86_64/egg\n",
      "creating build/bdist.linux-x86_64/egg/object_detection\n",
      "creating build/bdist.linux-x86_64/egg/object_detection/anchor_generators\n",
      "copying build/lib/object_detection/anchor_generators/grid_anchor_generator.py -> build/bdist.linux-x86_64/egg/object_detection/anchor_generators\n",
      "copying build/lib/object_detection/anchor_generators/grid_anchor_generator_test.py -> build/bdist.linux-x86_64/egg/object_detection/anchor_generators\n",
      "copying build/lib/object_detection/anchor_generators/multiple_grid_anchor_generator.py -> build/bdist.linux-x86_64/egg/object_detection/anchor_generators\n",
      "copying build/lib/object_detection/anchor_generators/multiple_grid_anchor_generator_test.py -> build/bdist.linux-x86_64/egg/object_detection/anchor_generators\n",
      "copying build/lib/object_detection/anchor_generators/__init__.py -> build/bdist.linux-x86_64/egg/object_detection/anchor_generators\n",
      "creating build/bdist.linux-x86_64/egg/object_detection/box_coders\n",
      "copying build/lib/object_detection/box_coders/faster_rcnn_box_coder.py -> build/bdist.linux-x86_64/egg/object_detection/box_coders\n",
      "copying build/lib/object_detection/box_coders/faster_rcnn_box_coder_test.py -> build/bdist.linux-x86_64/egg/object_detection/box_coders\n",
      "copying build/lib/object_detection/box_coders/keypoint_box_coder.py -> build/bdist.linux-x86_64/egg/object_detection/box_coders\n",
      "copying build/lib/object_detection/box_coders/keypoint_box_coder_test.py -> build/bdist.linux-x86_64/egg/object_detection/box_coders\n",
      "copying build/lib/object_detection/box_coders/mean_stddev_box_coder.py -> build/bdist.linux-x86_64/egg/object_detection/box_coders\n",
      "copying build/lib/object_detection/box_coders/mean_stddev_box_coder_test.py -> build/bdist.linux-x86_64/egg/object_detection/box_coders\n",
      "copying build/lib/object_detection/box_coders/square_box_coder.py -> build/bdist.linux-x86_64/egg/object_detection/box_coders\n",
      "copying build/lib/object_detection/box_coders/square_box_coder_test.py -> build/bdist.linux-x86_64/egg/object_detection/box_coders\n",
      "copying build/lib/object_detection/box_coders/__init__.py -> build/bdist.linux-x86_64/egg/object_detection/box_coders\n",
      "creating build/bdist.linux-x86_64/egg/object_detection/builders\n",
      "copying build/lib/object_detection/builders/anchor_generator_builder.py -> build/bdist.linux-x86_64/egg/object_detection/builders\n",
      "copying build/lib/object_detection/builders/anchor_generator_builder_test.py -> build/bdist.linux-x86_64/egg/object_detection/builders\n",
      "copying build/lib/object_detection/builders/box_coder_builder.py -> build/bdist.linux-x86_64/egg/object_detection/builders\n",
      "copying build/lib/object_detection/builders/box_coder_builder_test.py -> build/bdist.linux-x86_64/egg/object_detection/builders\n",
      "copying build/lib/object_detection/builders/box_predictor_builder.py -> build/bdist.linux-x86_64/egg/object_detection/builders\n",
      "copying build/lib/object_detection/builders/box_predictor_builder_test.py -> build/bdist.linux-x86_64/egg/object_detection/builders\n",
      "copying build/lib/object_detection/builders/hyperparams_builder.py -> build/bdist.linux-x86_64/egg/object_detection/builders\n",
      "copying build/lib/object_detection/builders/hyperparams_builder_test.py -> build/bdist.linux-x86_64/egg/object_detection/builders\n",
      "copying build/lib/object_detection/builders/image_resizer_builder.py -> build/bdist.linux-x86_64/egg/object_detection/builders\n",
      "copying build/lib/object_detection/builders/image_resizer_builder_test.py -> build/bdist.linux-x86_64/egg/object_detection/builders\n",
      "copying build/lib/object_detection/builders/input_reader_builder.py -> build/bdist.linux-x86_64/egg/object_detection/builders\n",
      "copying build/lib/object_detection/builders/input_reader_builder_test.py -> build/bdist.linux-x86_64/egg/object_detection/builders\n",
      "copying build/lib/object_detection/builders/losses_builder.py -> build/bdist.linux-x86_64/egg/object_detection/builders\n",
      "copying build/lib/object_detection/builders/losses_builder_test.py -> build/bdist.linux-x86_64/egg/object_detection/builders\n",
      "copying build/lib/object_detection/builders/matcher_builder.py -> build/bdist.linux-x86_64/egg/object_detection/builders\n",
      "copying build/lib/object_detection/builders/matcher_builder_test.py -> build/bdist.linux-x86_64/egg/object_detection/builders\n",
      "copying build/lib/object_detection/builders/model_builder.py -> build/bdist.linux-x86_64/egg/object_detection/builders\n",
      "copying build/lib/object_detection/builders/model_builder_test.py -> build/bdist.linux-x86_64/egg/object_detection/builders\n",
      "copying build/lib/object_detection/builders/optimizer_builder.py -> build/bdist.linux-x86_64/egg/object_detection/builders\n",
      "copying build/lib/object_detection/builders/optimizer_builder_test.py -> build/bdist.linux-x86_64/egg/object_detection/builders\n",
      "copying build/lib/object_detection/builders/post_processing_builder.py -> build/bdist.linux-x86_64/egg/object_detection/builders\n",
      "copying build/lib/object_detection/builders/post_processing_builder_test.py -> build/bdist.linux-x86_64/egg/object_detection/builders\n",
      "copying build/lib/object_detection/builders/preprocessor_builder.py -> build/bdist.linux-x86_64/egg/object_detection/builders\n",
      "copying build/lib/object_detection/builders/preprocessor_builder_test.py -> build/bdist.linux-x86_64/egg/object_detection/builders\n",
      "copying build/lib/object_detection/builders/region_similarity_calculator_builder.py -> build/bdist.linux-x86_64/egg/object_detection/builders\n",
      "copying build/lib/object_detection/builders/region_similarity_calculator_builder_test.py -> build/bdist.linux-x86_64/egg/object_detection/builders\n",
      "copying build/lib/object_detection/builders/__init__.py -> build/bdist.linux-x86_64/egg/object_detection/builders\n",
      "creating build/bdist.linux-x86_64/egg/object_detection/core\n",
      "copying build/lib/object_detection/core/keypoint_ops_test.py -> build/bdist.linux-x86_64/egg/object_detection/core\n",
      "copying build/lib/object_detection/core/anchor_generator.py -> build/bdist.linux-x86_64/egg/object_detection/core\n",
      "copying build/lib/object_detection/core/balanced_positive_negative_sampler.py -> build/bdist.linux-x86_64/egg/object_detection/core\n",
      "copying build/lib/object_detection/core/balanced_positive_negative_sampler_test.py -> build/bdist.linux-x86_64/egg/object_detection/core\n",
      "copying build/lib/object_detection/core/batcher.py -> build/bdist.linux-x86_64/egg/object_detection/core\n",
      "copying build/lib/object_detection/core/batcher_test.py -> build/bdist.linux-x86_64/egg/object_detection/core\n",
      "copying build/lib/object_detection/core/box_coder.py -> build/bdist.linux-x86_64/egg/object_detection/core\n",
      "copying build/lib/object_detection/core/box_coder_test.py -> build/bdist.linux-x86_64/egg/object_detection/core\n",
      "copying build/lib/object_detection/core/box_list.py -> build/bdist.linux-x86_64/egg/object_detection/core\n",
      "copying build/lib/object_detection/core/box_list_ops.py -> build/bdist.linux-x86_64/egg/object_detection/core\n",
      "copying build/lib/object_detection/core/box_list_ops_test.py -> build/bdist.linux-x86_64/egg/object_detection/core\n",
      "copying build/lib/object_detection/core/box_list_test.py -> build/bdist.linux-x86_64/egg/object_detection/core\n",
      "copying build/lib/object_detection/core/box_predictor.py -> build/bdist.linux-x86_64/egg/object_detection/core\n",
      "copying build/lib/object_detection/core/box_predictor_test.py -> build/bdist.linux-x86_64/egg/object_detection/core\n",
      "copying build/lib/object_detection/core/data_decoder.py -> build/bdist.linux-x86_64/egg/object_detection/core\n",
      "copying build/lib/object_detection/core/data_parser.py -> build/bdist.linux-x86_64/egg/object_detection/core\n",
      "copying build/lib/object_detection/core/keypoint_ops.py -> build/bdist.linux-x86_64/egg/object_detection/core\n",
      "copying build/lib/object_detection/core/losses.py -> build/bdist.linux-x86_64/egg/object_detection/core\n",
      "copying build/lib/object_detection/core/losses_test.py -> build/bdist.linux-x86_64/egg/object_detection/core\n",
      "copying build/lib/object_detection/core/matcher.py -> build/bdist.linux-x86_64/egg/object_detection/core\n",
      "copying build/lib/object_detection/core/matcher_test.py -> build/bdist.linux-x86_64/egg/object_detection/core\n",
      "copying build/lib/object_detection/core/minibatch_sampler.py -> build/bdist.linux-x86_64/egg/object_detection/core\n",
      "copying build/lib/object_detection/core/minibatch_sampler_test.py -> build/bdist.linux-x86_64/egg/object_detection/core\n",
      "copying build/lib/object_detection/core/model.py -> build/bdist.linux-x86_64/egg/object_detection/core\n",
      "copying build/lib/object_detection/core/post_processing.py -> build/bdist.linux-x86_64/egg/object_detection/core\n",
      "copying build/lib/object_detection/core/post_processing_test.py -> build/bdist.linux-x86_64/egg/object_detection/core\n",
      "copying build/lib/object_detection/core/prefetcher.py -> build/bdist.linux-x86_64/egg/object_detection/core\n",
      "copying build/lib/object_detection/core/prefetcher_test.py -> build/bdist.linux-x86_64/egg/object_detection/core\n",
      "copying build/lib/object_detection/core/preprocessor.py -> build/bdist.linux-x86_64/egg/object_detection/core\n",
      "copying build/lib/object_detection/core/preprocessor_test.py -> build/bdist.linux-x86_64/egg/object_detection/core\n",
      "copying build/lib/object_detection/core/region_similarity_calculator.py -> build/bdist.linux-x86_64/egg/object_detection/core\n",
      "copying build/lib/object_detection/core/region_similarity_calculator_test.py -> build/bdist.linux-x86_64/egg/object_detection/core\n",
      "copying build/lib/object_detection/core/standard_fields.py -> build/bdist.linux-x86_64/egg/object_detection/core\n",
      "copying build/lib/object_detection/core/target_assigner.py -> build/bdist.linux-x86_64/egg/object_detection/core\n",
      "copying build/lib/object_detection/core/target_assigner_test.py -> build/bdist.linux-x86_64/egg/object_detection/core\n",
      "copying build/lib/object_detection/core/__init__.py -> build/bdist.linux-x86_64/egg/object_detection/core\n",
      "creating build/bdist.linux-x86_64/egg/object_detection/dataset_tools\n",
      "copying build/lib/object_detection/dataset_tools/create_kitti_tf_record.py -> build/bdist.linux-x86_64/egg/object_detection/dataset_tools\n",
      "copying build/lib/object_detection/dataset_tools/create_kitti_tf_record_test.py -> build/bdist.linux-x86_64/egg/object_detection/dataset_tools\n",
      "copying build/lib/object_detection/dataset_tools/create_oid_tf_record.py -> build/bdist.linux-x86_64/egg/object_detection/dataset_tools\n",
      "copying build/lib/object_detection/dataset_tools/create_pascal_tf_record.py -> build/bdist.linux-x86_64/egg/object_detection/dataset_tools\n",
      "copying build/lib/object_detection/dataset_tools/create_pascal_tf_record_test.py -> build/bdist.linux-x86_64/egg/object_detection/dataset_tools\n",
      "copying build/lib/object_detection/dataset_tools/create_pet_tf_record.py -> build/bdist.linux-x86_64/egg/object_detection/dataset_tools\n",
      "copying build/lib/object_detection/dataset_tools/oid_tfrecord_creation.py -> build/bdist.linux-x86_64/egg/object_detection/dataset_tools\n",
      "copying build/lib/object_detection/dataset_tools/oid_tfrecord_creation_test.py -> build/bdist.linux-x86_64/egg/object_detection/dataset_tools\n",
      "copying build/lib/object_detection/dataset_tools/__init__.py -> build/bdist.linux-x86_64/egg/object_detection/dataset_tools\n",
      "creating build/bdist.linux-x86_64/egg/object_detection/data_decoders\n",
      "copying build/lib/object_detection/data_decoders/tf_example_decoder.py -> build/bdist.linux-x86_64/egg/object_detection/data_decoders\n",
      "copying build/lib/object_detection/data_decoders/tf_example_decoder_test.py -> build/bdist.linux-x86_64/egg/object_detection/data_decoders\n",
      "copying build/lib/object_detection/data_decoders/__init__.py -> build/bdist.linux-x86_64/egg/object_detection/data_decoders\n",
      "copying build/lib/object_detection/eval.py -> build/bdist.linux-x86_64/egg/object_detection\n",
      "copying build/lib/object_detection/evaluator.py -> build/bdist.linux-x86_64/egg/object_detection\n",
      "copying build/lib/object_detection/eval_util.py -> build/bdist.linux-x86_64/egg/object_detection\n",
      "copying build/lib/object_detection/exporter.py -> build/bdist.linux-x86_64/egg/object_detection\n",
      "copying build/lib/object_detection/exporter_test.py -> build/bdist.linux-x86_64/egg/object_detection\n",
      "copying build/lib/object_detection/export_inference_graph.py -> build/bdist.linux-x86_64/egg/object_detection\n",
      "creating build/bdist.linux-x86_64/egg/object_detection/matchers\n",
      "copying build/lib/object_detection/matchers/argmax_matcher.py -> build/bdist.linux-x86_64/egg/object_detection/matchers\n",
      "copying build/lib/object_detection/matchers/argmax_matcher_test.py -> build/bdist.linux-x86_64/egg/object_detection/matchers\n",
      "copying build/lib/object_detection/matchers/bipartite_matcher.py -> build/bdist.linux-x86_64/egg/object_detection/matchers\n",
      "copying build/lib/object_detection/matchers/bipartite_matcher_test.py -> build/bdist.linux-x86_64/egg/object_detection/matchers\n",
      "copying build/lib/object_detection/matchers/__init__.py -> build/bdist.linux-x86_64/egg/object_detection/matchers\n",
      "creating build/bdist.linux-x86_64/egg/object_detection/meta_architectures\n",
      "copying build/lib/object_detection/meta_architectures/faster_rcnn_meta_arch.py -> build/bdist.linux-x86_64/egg/object_detection/meta_architectures\n",
      "copying build/lib/object_detection/meta_architectures/faster_rcnn_meta_arch_test.py -> build/bdist.linux-x86_64/egg/object_detection/meta_architectures\n",
      "copying build/lib/object_detection/meta_architectures/faster_rcnn_meta_arch_test_lib.py -> build/bdist.linux-x86_64/egg/object_detection/meta_architectures\n",
      "copying build/lib/object_detection/meta_architectures/rfcn_meta_arch.py -> build/bdist.linux-x86_64/egg/object_detection/meta_architectures\n",
      "copying build/lib/object_detection/meta_architectures/rfcn_meta_arch_test.py -> build/bdist.linux-x86_64/egg/object_detection/meta_architectures\n",
      "copying build/lib/object_detection/meta_architectures/ssd_meta_arch.py -> build/bdist.linux-x86_64/egg/object_detection/meta_architectures\n",
      "copying build/lib/object_detection/meta_architectures/ssd_meta_arch_test.py -> build/bdist.linux-x86_64/egg/object_detection/meta_architectures\n",
      "copying build/lib/object_detection/meta_architectures/__init__.py -> build/bdist.linux-x86_64/egg/object_detection/meta_architectures\n",
      "creating build/bdist.linux-x86_64/egg/object_detection/models\n",
      "copying build/lib/object_detection/models/embedded_ssd_mobilenet_v1_feature_extractor.py -> build/bdist.linux-x86_64/egg/object_detection/models\n",
      "copying build/lib/object_detection/models/embedded_ssd_mobilenet_v1_feature_extractor_test.py -> build/bdist.linux-x86_64/egg/object_detection/models\n",
      "copying build/lib/object_detection/models/faster_rcnn_inception_resnet_v2_feature_extractor.py -> build/bdist.linux-x86_64/egg/object_detection/models\n",
      "copying build/lib/object_detection/models/faster_rcnn_inception_resnet_v2_feature_extractor_test.py -> build/bdist.linux-x86_64/egg/object_detection/models\n",
      "copying build/lib/object_detection/models/faster_rcnn_inception_v2_feature_extractor.py -> build/bdist.linux-x86_64/egg/object_detection/models\n",
      "copying build/lib/object_detection/models/faster_rcnn_inception_v2_feature_extractor_test.py -> build/bdist.linux-x86_64/egg/object_detection/models\n",
      "copying build/lib/object_detection/models/faster_rcnn_nas_feature_extractor.py -> build/bdist.linux-x86_64/egg/object_detection/models\n",
      "copying build/lib/object_detection/models/faster_rcnn_nas_feature_extractor_test.py -> build/bdist.linux-x86_64/egg/object_detection/models\n",
      "copying build/lib/object_detection/models/faster_rcnn_resnet_v1_feature_extractor.py -> build/bdist.linux-x86_64/egg/object_detection/models\n",
      "copying build/lib/object_detection/models/faster_rcnn_resnet_v1_feature_extractor_test.py -> build/bdist.linux-x86_64/egg/object_detection/models\n",
      "copying build/lib/object_detection/models/feature_map_generators.py -> build/bdist.linux-x86_64/egg/object_detection/models\n",
      "copying build/lib/object_detection/models/feature_map_generators_test.py -> build/bdist.linux-x86_64/egg/object_detection/models\n",
      "copying build/lib/object_detection/models/ssd_feature_extractor_test.py -> build/bdist.linux-x86_64/egg/object_detection/models\n",
      "copying build/lib/object_detection/models/ssd_inception_v2_feature_extractor.py -> build/bdist.linux-x86_64/egg/object_detection/models\n",
      "copying build/lib/object_detection/models/ssd_inception_v2_feature_extractor_test.py -> build/bdist.linux-x86_64/egg/object_detection/models\n",
      "copying build/lib/object_detection/models/ssd_inception_v3_feature_extractor.py -> build/bdist.linux-x86_64/egg/object_detection/models\n",
      "copying build/lib/object_detection/models/ssd_inception_v3_feature_extractor_test.py -> build/bdist.linux-x86_64/egg/object_detection/models\n",
      "copying build/lib/object_detection/models/ssd_mobilenet_v1_feature_extractor.py -> build/bdist.linux-x86_64/egg/object_detection/models\n",
      "copying build/lib/object_detection/models/ssd_mobilenet_v1_feature_extractor_test.py -> build/bdist.linux-x86_64/egg/object_detection/models\n",
      "copying build/lib/object_detection/models/__init__.py -> build/bdist.linux-x86_64/egg/object_detection/models\n",
      "creating build/bdist.linux-x86_64/egg/object_detection/protos\n",
      "copying build/lib/object_detection/protos/anchor_generator_pb2.py -> build/bdist.linux-x86_64/egg/object_detection/protos\n",
      "copying build/lib/object_detection/protos/argmax_matcher_pb2.py -> build/bdist.linux-x86_64/egg/object_detection/protos\n",
      "copying build/lib/object_detection/protos/bipartite_matcher_pb2.py -> build/bdist.linux-x86_64/egg/object_detection/protos\n",
      "copying build/lib/object_detection/protos/box_coder_pb2.py -> build/bdist.linux-x86_64/egg/object_detection/protos\n",
      "copying build/lib/object_detection/protos/box_predictor_pb2.py -> build/bdist.linux-x86_64/egg/object_detection/protos\n",
      "copying build/lib/object_detection/protos/eval_pb2.py -> build/bdist.linux-x86_64/egg/object_detection/protos\n",
      "copying build/lib/object_detection/protos/faster_rcnn_box_coder_pb2.py -> build/bdist.linux-x86_64/egg/object_detection/protos\n",
      "copying build/lib/object_detection/protos/faster_rcnn_pb2.py -> build/bdist.linux-x86_64/egg/object_detection/protos\n",
      "copying build/lib/object_detection/protos/grid_anchor_generator_pb2.py -> build/bdist.linux-x86_64/egg/object_detection/protos\n",
      "copying build/lib/object_detection/protos/hyperparams_pb2.py -> build/bdist.linux-x86_64/egg/object_detection/protos\n",
      "copying build/lib/object_detection/protos/image_resizer_pb2.py -> build/bdist.linux-x86_64/egg/object_detection/protos\n",
      "copying build/lib/object_detection/protos/input_reader_pb2.py -> build/bdist.linux-x86_64/egg/object_detection/protos\n",
      "copying build/lib/object_detection/protos/keypoint_box_coder_pb2.py -> build/bdist.linux-x86_64/egg/object_detection/protos\n",
      "copying build/lib/object_detection/protos/losses_pb2.py -> build/bdist.linux-x86_64/egg/object_detection/protos\n",
      "copying build/lib/object_detection/protos/matcher_pb2.py -> build/bdist.linux-x86_64/egg/object_detection/protos\n",
      "copying build/lib/object_detection/protos/mean_stddev_box_coder_pb2.py -> build/bdist.linux-x86_64/egg/object_detection/protos\n",
      "copying build/lib/object_detection/protos/model_pb2.py -> build/bdist.linux-x86_64/egg/object_detection/protos\n",
      "copying build/lib/object_detection/protos/optimizer_pb2.py -> build/bdist.linux-x86_64/egg/object_detection/protos\n",
      "copying build/lib/object_detection/protos/pipeline_pb2.py -> build/bdist.linux-x86_64/egg/object_detection/protos\n",
      "copying build/lib/object_detection/protos/post_processing_pb2.py -> build/bdist.linux-x86_64/egg/object_detection/protos\n",
      "copying build/lib/object_detection/protos/preprocessor_pb2.py -> build/bdist.linux-x86_64/egg/object_detection/protos\n",
      "copying build/lib/object_detection/protos/region_similarity_calculator_pb2.py -> build/bdist.linux-x86_64/egg/object_detection/protos\n",
      "copying build/lib/object_detection/protos/square_box_coder_pb2.py -> build/bdist.linux-x86_64/egg/object_detection/protos\n",
      "copying build/lib/object_detection/protos/ssd_anchor_generator_pb2.py -> build/bdist.linux-x86_64/egg/object_detection/protos\n",
      "copying build/lib/object_detection/protos/ssd_pb2.py -> build/bdist.linux-x86_64/egg/object_detection/protos\n",
      "copying build/lib/object_detection/protos/string_int_label_map_pb2.py -> build/bdist.linux-x86_64/egg/object_detection/protos\n",
      "copying build/lib/object_detection/protos/train_pb2.py -> build/bdist.linux-x86_64/egg/object_detection/protos\n",
      "copying build/lib/object_detection/protos/__init__.py -> build/bdist.linux-x86_64/egg/object_detection/protos\n",
      "copying build/lib/object_detection/train.py -> build/bdist.linux-x86_64/egg/object_detection\n",
      "copying build/lib/object_detection/trainer.py -> build/bdist.linux-x86_64/egg/object_detection\n",
      "copying build/lib/object_detection/trainer_test.py -> build/bdist.linux-x86_64/egg/object_detection\n",
      "creating build/bdist.linux-x86_64/egg/object_detection/utils\n",
      "copying build/lib/object_detection/utils/np_box_ops.py -> build/bdist.linux-x86_64/egg/object_detection/utils\n",
      "copying build/lib/object_detection/utils/category_util.py -> build/bdist.linux-x86_64/egg/object_detection/utils\n",
      "copying build/lib/object_detection/utils/category_util_test.py -> build/bdist.linux-x86_64/egg/object_detection/utils\n",
      "copying build/lib/object_detection/utils/config_util.py -> build/bdist.linux-x86_64/egg/object_detection/utils\n",
      "copying build/lib/object_detection/utils/config_util_test.py -> build/bdist.linux-x86_64/egg/object_detection/utils\n",
      "copying build/lib/object_detection/utils/dataset_util.py -> build/bdist.linux-x86_64/egg/object_detection/utils\n",
      "copying build/lib/object_detection/utils/dataset_util_test.py -> build/bdist.linux-x86_64/egg/object_detection/utils\n",
      "copying build/lib/object_detection/utils/label_map_util.py -> build/bdist.linux-x86_64/egg/object_detection/utils\n",
      "copying build/lib/object_detection/utils/label_map_util_test.py -> build/bdist.linux-x86_64/egg/object_detection/utils\n",
      "copying build/lib/object_detection/utils/learning_schedules.py -> build/bdist.linux-x86_64/egg/object_detection/utils\n",
      "copying build/lib/object_detection/utils/learning_schedules_test.py -> build/bdist.linux-x86_64/egg/object_detection/utils\n",
      "copying build/lib/object_detection/utils/metrics.py -> build/bdist.linux-x86_64/egg/object_detection/utils\n",
      "copying build/lib/object_detection/utils/metrics_test.py -> build/bdist.linux-x86_64/egg/object_detection/utils\n",
      "copying build/lib/object_detection/utils/np_box_list.py -> build/bdist.linux-x86_64/egg/object_detection/utils\n",
      "copying build/lib/object_detection/utils/np_box_list_ops.py -> build/bdist.linux-x86_64/egg/object_detection/utils\n",
      "copying build/lib/object_detection/utils/np_box_list_ops_test.py -> build/bdist.linux-x86_64/egg/object_detection/utils\n",
      "copying build/lib/object_detection/utils/np_box_list_test.py -> build/bdist.linux-x86_64/egg/object_detection/utils\n",
      "copying build/lib/object_detection/utils/np_box_ops_test.py -> build/bdist.linux-x86_64/egg/object_detection/utils\n",
      "copying build/lib/object_detection/utils/object_detection_evaluation.py -> build/bdist.linux-x86_64/egg/object_detection/utils\n",
      "copying build/lib/object_detection/utils/object_detection_evaluation_test.py -> build/bdist.linux-x86_64/egg/object_detection/utils\n",
      "copying build/lib/object_detection/utils/ops.py -> build/bdist.linux-x86_64/egg/object_detection/utils\n",
      "copying build/lib/object_detection/utils/ops_test.py -> build/bdist.linux-x86_64/egg/object_detection/utils\n",
      "copying build/lib/object_detection/utils/per_image_evaluation.py -> build/bdist.linux-x86_64/egg/object_detection/utils\n",
      "copying build/lib/object_detection/utils/per_image_evaluation_test.py -> build/bdist.linux-x86_64/egg/object_detection/utils\n",
      "copying build/lib/object_detection/utils/shape_utils.py -> build/bdist.linux-x86_64/egg/object_detection/utils\n",
      "copying build/lib/object_detection/utils/shape_utils_test.py -> build/bdist.linux-x86_64/egg/object_detection/utils\n",
      "copying build/lib/object_detection/utils/static_shape.py -> build/bdist.linux-x86_64/egg/object_detection/utils\n",
      "copying build/lib/object_detection/utils/static_shape_test.py -> build/bdist.linux-x86_64/egg/object_detection/utils\n",
      "copying build/lib/object_detection/utils/test_utils.py -> build/bdist.linux-x86_64/egg/object_detection/utils\n",
      "copying build/lib/object_detection/utils/test_utils_test.py -> build/bdist.linux-x86_64/egg/object_detection/utils\n",
      "copying build/lib/object_detection/utils/variables_helper.py -> build/bdist.linux-x86_64/egg/object_detection/utils\n",
      "copying build/lib/object_detection/utils/variables_helper_test.py -> build/bdist.linux-x86_64/egg/object_detection/utils\n",
      "copying build/lib/object_detection/utils/visualization_utils.py -> build/bdist.linux-x86_64/egg/object_detection/utils\n",
      "copying build/lib/object_detection/utils/visualization_utils_test.py -> build/bdist.linux-x86_64/egg/object_detection/utils\n",
      "copying build/lib/object_detection/utils/__init__.py -> build/bdist.linux-x86_64/egg/object_detection/utils\n",
      "copying build/lib/object_detection/__init__.py -> build/bdist.linux-x86_64/egg/object_detection\n",
      "byte-compiling build/bdist.linux-x86_64/egg/object_detection/anchor_generators/grid_anchor_generator.py to grid_anchor_generator.cpython-36.pyc\n",
      "byte-compiling build/bdist.linux-x86_64/egg/object_detection/anchor_generators/grid_anchor_generator_test.py to grid_anchor_generator_test.cpython-36.pyc\n",
      "byte-compiling build/bdist.linux-x86_64/egg/object_detection/anchor_generators/multiple_grid_anchor_generator.py to multiple_grid_anchor_generator.cpython-36.pyc\n",
      "byte-compiling build/bdist.linux-x86_64/egg/object_detection/anchor_generators/multiple_grid_anchor_generator_test.py to multiple_grid_anchor_generator_test.cpython-36.pyc\n",
      "byte-compiling build/bdist.linux-x86_64/egg/object_detection/anchor_generators/__init__.py to __init__.cpython-36.pyc\n",
      "byte-compiling build/bdist.linux-x86_64/egg/object_detection/box_coders/faster_rcnn_box_coder.py to faster_rcnn_box_coder.cpython-36.pyc\n",
      "byte-compiling build/bdist.linux-x86_64/egg/object_detection/box_coders/faster_rcnn_box_coder_test.py to faster_rcnn_box_coder_test.cpython-36.pyc\n",
      "byte-compiling build/bdist.linux-x86_64/egg/object_detection/box_coders/keypoint_box_coder.py to keypoint_box_coder.cpython-36.pyc\n",
      "byte-compiling build/bdist.linux-x86_64/egg/object_detection/box_coders/keypoint_box_coder_test.py to keypoint_box_coder_test.cpython-36.pyc\n",
      "byte-compiling build/bdist.linux-x86_64/egg/object_detection/box_coders/mean_stddev_box_coder.py to mean_stddev_box_coder.cpython-36.pyc\n",
      "byte-compiling build/bdist.linux-x86_64/egg/object_detection/box_coders/mean_stddev_box_coder_test.py to mean_stddev_box_coder_test.cpython-36.pyc\n",
      "byte-compiling build/bdist.linux-x86_64/egg/object_detection/box_coders/square_box_coder.py to square_box_coder.cpython-36.pyc\n",
      "byte-compiling build/bdist.linux-x86_64/egg/object_detection/box_coders/square_box_coder_test.py to square_box_coder_test.cpython-36.pyc\n",
      "byte-compiling build/bdist.linux-x86_64/egg/object_detection/box_coders/__init__.py to __init__.cpython-36.pyc\n",
      "byte-compiling build/bdist.linux-x86_64/egg/object_detection/builders/anchor_generator_builder.py to anchor_generator_builder.cpython-36.pyc\n",
      "byte-compiling build/bdist.linux-x86_64/egg/object_detection/builders/anchor_generator_builder_test.py to anchor_generator_builder_test.cpython-36.pyc\n",
      "byte-compiling build/bdist.linux-x86_64/egg/object_detection/builders/box_coder_builder.py to box_coder_builder.cpython-36.pyc\n",
      "byte-compiling build/bdist.linux-x86_64/egg/object_detection/builders/box_coder_builder_test.py to box_coder_builder_test.cpython-36.pyc\n",
      "byte-compiling build/bdist.linux-x86_64/egg/object_detection/builders/box_predictor_builder.py to box_predictor_builder.cpython-36.pyc\n",
      "byte-compiling build/bdist.linux-x86_64/egg/object_detection/builders/box_predictor_builder_test.py to box_predictor_builder_test.cpython-36.pyc\n",
      "byte-compiling build/bdist.linux-x86_64/egg/object_detection/builders/hyperparams_builder.py to hyperparams_builder.cpython-36.pyc\n",
      "byte-compiling build/bdist.linux-x86_64/egg/object_detection/builders/hyperparams_builder_test.py to hyperparams_builder_test.cpython-36.pyc\n",
      "byte-compiling build/bdist.linux-x86_64/egg/object_detection/builders/image_resizer_builder.py to image_resizer_builder.cpython-36.pyc\n",
      "byte-compiling build/bdist.linux-x86_64/egg/object_detection/builders/image_resizer_builder_test.py to image_resizer_builder_test.cpython-36.pyc\n",
      "byte-compiling build/bdist.linux-x86_64/egg/object_detection/builders/input_reader_builder.py to input_reader_builder.cpython-36.pyc\n",
      "byte-compiling build/bdist.linux-x86_64/egg/object_detection/builders/input_reader_builder_test.py to input_reader_builder_test.cpython-36.pyc\n",
      "byte-compiling build/bdist.linux-x86_64/egg/object_detection/builders/losses_builder.py to losses_builder.cpython-36.pyc\n",
      "byte-compiling build/bdist.linux-x86_64/egg/object_detection/builders/losses_builder_test.py to losses_builder_test.cpython-36.pyc\n",
      "byte-compiling build/bdist.linux-x86_64/egg/object_detection/builders/matcher_builder.py to matcher_builder.cpython-36.pyc\n",
      "byte-compiling build/bdist.linux-x86_64/egg/object_detection/builders/matcher_builder_test.py to matcher_builder_test.cpython-36.pyc\n",
      "byte-compiling build/bdist.linux-x86_64/egg/object_detection/builders/model_builder.py to model_builder.cpython-36.pyc\n",
      "byte-compiling build/bdist.linux-x86_64/egg/object_detection/builders/model_builder_test.py to model_builder_test.cpython-36.pyc\n",
      "byte-compiling build/bdist.linux-x86_64/egg/object_detection/builders/optimizer_builder.py to optimizer_builder.cpython-36.pyc\n",
      "byte-compiling build/bdist.linux-x86_64/egg/object_detection/builders/optimizer_builder_test.py to optimizer_builder_test.cpython-36.pyc\n",
      "byte-compiling build/bdist.linux-x86_64/egg/object_detection/builders/post_processing_builder.py to post_processing_builder.cpython-36.pyc\n",
      "byte-compiling build/bdist.linux-x86_64/egg/object_detection/builders/post_processing_builder_test.py to post_processing_builder_test.cpython-36.pyc\n",
      "byte-compiling build/bdist.linux-x86_64/egg/object_detection/builders/preprocessor_builder.py to preprocessor_builder.cpython-36.pyc\n",
      "byte-compiling build/bdist.linux-x86_64/egg/object_detection/builders/preprocessor_builder_test.py to preprocessor_builder_test.cpython-36.pyc\n",
      "byte-compiling build/bdist.linux-x86_64/egg/object_detection/builders/region_similarity_calculator_builder.py to region_similarity_calculator_builder.cpython-36.pyc\n",
      "byte-compiling build/bdist.linux-x86_64/egg/object_detection/builders/region_similarity_calculator_builder_test.py to region_similarity_calculator_builder_test.cpython-36.pyc\n",
      "byte-compiling build/bdist.linux-x86_64/egg/object_detection/builders/__init__.py to __init__.cpython-36.pyc\n",
      "byte-compiling build/bdist.linux-x86_64/egg/object_detection/core/keypoint_ops_test.py to keypoint_ops_test.cpython-36.pyc\n",
      "byte-compiling build/bdist.linux-x86_64/egg/object_detection/core/anchor_generator.py to anchor_generator.cpython-36.pyc\n",
      "byte-compiling build/bdist.linux-x86_64/egg/object_detection/core/balanced_positive_negative_sampler.py to balanced_positive_negative_sampler.cpython-36.pyc\n",
      "byte-compiling build/bdist.linux-x86_64/egg/object_detection/core/balanced_positive_negative_sampler_test.py to balanced_positive_negative_sampler_test.cpython-36.pyc\n",
      "byte-compiling build/bdist.linux-x86_64/egg/object_detection/core/batcher.py to batcher.cpython-36.pyc\n",
      "byte-compiling build/bdist.linux-x86_64/egg/object_detection/core/batcher_test.py to batcher_test.cpython-36.pyc\n",
      "byte-compiling build/bdist.linux-x86_64/egg/object_detection/core/box_coder.py to box_coder.cpython-36.pyc\n",
      "byte-compiling build/bdist.linux-x86_64/egg/object_detection/core/box_coder_test.py to box_coder_test.cpython-36.pyc\n",
      "byte-compiling build/bdist.linux-x86_64/egg/object_detection/core/box_list.py to box_list.cpython-36.pyc\n",
      "byte-compiling build/bdist.linux-x86_64/egg/object_detection/core/box_list_ops.py to box_list_ops.cpython-36.pyc\n",
      "byte-compiling build/bdist.linux-x86_64/egg/object_detection/core/box_list_ops_test.py to box_list_ops_test.cpython-36.pyc\n",
      "byte-compiling build/bdist.linux-x86_64/egg/object_detection/core/box_list_test.py to box_list_test.cpython-36.pyc\n",
      "byte-compiling build/bdist.linux-x86_64/egg/object_detection/core/box_predictor.py to box_predictor.cpython-36.pyc\n",
      "byte-compiling build/bdist.linux-x86_64/egg/object_detection/core/box_predictor_test.py to box_predictor_test.cpython-36.pyc\n",
      "byte-compiling build/bdist.linux-x86_64/egg/object_detection/core/data_decoder.py to data_decoder.cpython-36.pyc\n",
      "byte-compiling build/bdist.linux-x86_64/egg/object_detection/core/data_parser.py to data_parser.cpython-36.pyc\n",
      "byte-compiling build/bdist.linux-x86_64/egg/object_detection/core/keypoint_ops.py to keypoint_ops.cpython-36.pyc\n",
      "byte-compiling build/bdist.linux-x86_64/egg/object_detection/core/losses.py to losses.cpython-36.pyc\n",
      "byte-compiling build/bdist.linux-x86_64/egg/object_detection/core/losses_test.py to losses_test.cpython-36.pyc\n",
      "byte-compiling build/bdist.linux-x86_64/egg/object_detection/core/matcher.py to matcher.cpython-36.pyc\n",
      "byte-compiling build/bdist.linux-x86_64/egg/object_detection/core/matcher_test.py to matcher_test.cpython-36.pyc\n",
      "byte-compiling build/bdist.linux-x86_64/egg/object_detection/core/minibatch_sampler.py to minibatch_sampler.cpython-36.pyc\n",
      "byte-compiling build/bdist.linux-x86_64/egg/object_detection/core/minibatch_sampler_test.py to minibatch_sampler_test.cpython-36.pyc\n",
      "byte-compiling build/bdist.linux-x86_64/egg/object_detection/core/model.py to model.cpython-36.pyc\n",
      "byte-compiling build/bdist.linux-x86_64/egg/object_detection/core/post_processing.py to post_processing.cpython-36.pyc\n",
      "byte-compiling build/bdist.linux-x86_64/egg/object_detection/core/post_processing_test.py to post_processing_test.cpython-36.pyc\n",
      "byte-compiling build/bdist.linux-x86_64/egg/object_detection/core/prefetcher.py to prefetcher.cpython-36.pyc\n",
      "byte-compiling build/bdist.linux-x86_64/egg/object_detection/core/prefetcher_test.py to prefetcher_test.cpython-36.pyc\n",
      "byte-compiling build/bdist.linux-x86_64/egg/object_detection/core/preprocessor.py to preprocessor.cpython-36.pyc\n",
      "byte-compiling build/bdist.linux-x86_64/egg/object_detection/core/preprocessor_test.py to preprocessor_test.cpython-36.pyc\n",
      "byte-compiling build/bdist.linux-x86_64/egg/object_detection/core/region_similarity_calculator.py to region_similarity_calculator.cpython-36.pyc\n",
      "byte-compiling build/bdist.linux-x86_64/egg/object_detection/core/region_similarity_calculator_test.py to region_similarity_calculator_test.cpython-36.pyc\n",
      "byte-compiling build/bdist.linux-x86_64/egg/object_detection/core/standard_fields.py to standard_fields.cpython-36.pyc\n",
      "byte-compiling build/bdist.linux-x86_64/egg/object_detection/core/target_assigner.py to target_assigner.cpython-36.pyc\n",
      "byte-compiling build/bdist.linux-x86_64/egg/object_detection/core/target_assigner_test.py to target_assigner_test.cpython-36.pyc\n",
      "byte-compiling build/bdist.linux-x86_64/egg/object_detection/core/__init__.py to __init__.cpython-36.pyc\n",
      "byte-compiling build/bdist.linux-x86_64/egg/object_detection/dataset_tools/create_kitti_tf_record.py to create_kitti_tf_record.cpython-36.pyc\n",
      "byte-compiling build/bdist.linux-x86_64/egg/object_detection/dataset_tools/create_kitti_tf_record_test.py to create_kitti_tf_record_test.cpython-36.pyc\n",
      "byte-compiling build/bdist.linux-x86_64/egg/object_detection/dataset_tools/create_oid_tf_record.py to create_oid_tf_record.cpython-36.pyc\n",
      "byte-compiling build/bdist.linux-x86_64/egg/object_detection/dataset_tools/create_pascal_tf_record.py to create_pascal_tf_record.cpython-36.pyc\n",
      "byte-compiling build/bdist.linux-x86_64/egg/object_detection/dataset_tools/create_pascal_tf_record_test.py to create_pascal_tf_record_test.cpython-36.pyc\n",
      "byte-compiling build/bdist.linux-x86_64/egg/object_detection/dataset_tools/create_pet_tf_record.py to create_pet_tf_record.cpython-36.pyc\n",
      "byte-compiling build/bdist.linux-x86_64/egg/object_detection/dataset_tools/oid_tfrecord_creation.py to oid_tfrecord_creation.cpython-36.pyc\n",
      "byte-compiling build/bdist.linux-x86_64/egg/object_detection/dataset_tools/oid_tfrecord_creation_test.py to oid_tfrecord_creation_test.cpython-36.pyc\n",
      "byte-compiling build/bdist.linux-x86_64/egg/object_detection/dataset_tools/__init__.py to __init__.cpython-36.pyc\n",
      "byte-compiling build/bdist.linux-x86_64/egg/object_detection/data_decoders/tf_example_decoder.py to tf_example_decoder.cpython-36.pyc\n",
      "byte-compiling build/bdist.linux-x86_64/egg/object_detection/data_decoders/tf_example_decoder_test.py to tf_example_decoder_test.cpython-36.pyc\n",
      "byte-compiling build/bdist.linux-x86_64/egg/object_detection/data_decoders/__init__.py to __init__.cpython-36.pyc\n",
      "byte-compiling build/bdist.linux-x86_64/egg/object_detection/eval.py to eval.cpython-36.pyc\n",
      "byte-compiling build/bdist.linux-x86_64/egg/object_detection/evaluator.py to evaluator.cpython-36.pyc\n",
      "byte-compiling build/bdist.linux-x86_64/egg/object_detection/eval_util.py to eval_util.cpython-36.pyc\n",
      "byte-compiling build/bdist.linux-x86_64/egg/object_detection/exporter.py to exporter.cpython-36.pyc\n",
      "byte-compiling build/bdist.linux-x86_64/egg/object_detection/exporter_test.py to exporter_test.cpython-36.pyc\n",
      "byte-compiling build/bdist.linux-x86_64/egg/object_detection/export_inference_graph.py to export_inference_graph.cpython-36.pyc\n",
      "byte-compiling build/bdist.linux-x86_64/egg/object_detection/matchers/argmax_matcher.py to argmax_matcher.cpython-36.pyc\n",
      "byte-compiling build/bdist.linux-x86_64/egg/object_detection/matchers/argmax_matcher_test.py to argmax_matcher_test.cpython-36.pyc\n",
      "byte-compiling build/bdist.linux-x86_64/egg/object_detection/matchers/bipartite_matcher.py to bipartite_matcher.cpython-36.pyc\n",
      "byte-compiling build/bdist.linux-x86_64/egg/object_detection/matchers/bipartite_matcher_test.py to bipartite_matcher_test.cpython-36.pyc\n",
      "byte-compiling build/bdist.linux-x86_64/egg/object_detection/matchers/__init__.py to __init__.cpython-36.pyc\n",
      "byte-compiling build/bdist.linux-x86_64/egg/object_detection/meta_architectures/faster_rcnn_meta_arch.py to faster_rcnn_meta_arch.cpython-36.pyc\n",
      "byte-compiling build/bdist.linux-x86_64/egg/object_detection/meta_architectures/faster_rcnn_meta_arch_test.py to faster_rcnn_meta_arch_test.cpython-36.pyc\n",
      "byte-compiling build/bdist.linux-x86_64/egg/object_detection/meta_architectures/faster_rcnn_meta_arch_test_lib.py to faster_rcnn_meta_arch_test_lib.cpython-36.pyc\n",
      "byte-compiling build/bdist.linux-x86_64/egg/object_detection/meta_architectures/rfcn_meta_arch.py to rfcn_meta_arch.cpython-36.pyc\n",
      "byte-compiling build/bdist.linux-x86_64/egg/object_detection/meta_architectures/rfcn_meta_arch_test.py to rfcn_meta_arch_test.cpython-36.pyc\n",
      "byte-compiling build/bdist.linux-x86_64/egg/object_detection/meta_architectures/ssd_meta_arch.py to ssd_meta_arch.cpython-36.pyc\n",
      "byte-compiling build/bdist.linux-x86_64/egg/object_detection/meta_architectures/ssd_meta_arch_test.py to ssd_meta_arch_test.cpython-36.pyc\n",
      "byte-compiling build/bdist.linux-x86_64/egg/object_detection/meta_architectures/__init__.py to __init__.cpython-36.pyc\n",
      "byte-compiling build/bdist.linux-x86_64/egg/object_detection/models/embedded_ssd_mobilenet_v1_feature_extractor.py to embedded_ssd_mobilenet_v1_feature_extractor.cpython-36.pyc\n",
      "byte-compiling build/bdist.linux-x86_64/egg/object_detection/models/embedded_ssd_mobilenet_v1_feature_extractor_test.py to embedded_ssd_mobilenet_v1_feature_extractor_test.cpython-36.pyc\n",
      "byte-compiling build/bdist.linux-x86_64/egg/object_detection/models/faster_rcnn_inception_resnet_v2_feature_extractor.py to faster_rcnn_inception_resnet_v2_feature_extractor.cpython-36.pyc\n",
      "byte-compiling build/bdist.linux-x86_64/egg/object_detection/models/faster_rcnn_inception_resnet_v2_feature_extractor_test.py to faster_rcnn_inception_resnet_v2_feature_extractor_test.cpython-36.pyc\n",
      "byte-compiling build/bdist.linux-x86_64/egg/object_detection/models/faster_rcnn_inception_v2_feature_extractor.py to faster_rcnn_inception_v2_feature_extractor.cpython-36.pyc\n",
      "byte-compiling build/bdist.linux-x86_64/egg/object_detection/models/faster_rcnn_inception_v2_feature_extractor_test.py to faster_rcnn_inception_v2_feature_extractor_test.cpython-36.pyc\n",
      "byte-compiling build/bdist.linux-x86_64/egg/object_detection/models/faster_rcnn_nas_feature_extractor.py to faster_rcnn_nas_feature_extractor.cpython-36.pyc\n",
      "byte-compiling build/bdist.linux-x86_64/egg/object_detection/models/faster_rcnn_nas_feature_extractor_test.py to faster_rcnn_nas_feature_extractor_test.cpython-36.pyc\n",
      "byte-compiling build/bdist.linux-x86_64/egg/object_detection/models/faster_rcnn_resnet_v1_feature_extractor.py to faster_rcnn_resnet_v1_feature_extractor.cpython-36.pyc\n",
      "byte-compiling build/bdist.linux-x86_64/egg/object_detection/models/faster_rcnn_resnet_v1_feature_extractor_test.py to faster_rcnn_resnet_v1_feature_extractor_test.cpython-36.pyc\n",
      "byte-compiling build/bdist.linux-x86_64/egg/object_detection/models/feature_map_generators.py to feature_map_generators.cpython-36.pyc\n",
      "byte-compiling build/bdist.linux-x86_64/egg/object_detection/models/feature_map_generators_test.py to feature_map_generators_test.cpython-36.pyc\n",
      "byte-compiling build/bdist.linux-x86_64/egg/object_detection/models/ssd_feature_extractor_test.py to ssd_feature_extractor_test.cpython-36.pyc\n",
      "byte-compiling build/bdist.linux-x86_64/egg/object_detection/models/ssd_inception_v2_feature_extractor.py to ssd_inception_v2_feature_extractor.cpython-36.pyc\n",
      "byte-compiling build/bdist.linux-x86_64/egg/object_detection/models/ssd_inception_v2_feature_extractor_test.py to ssd_inception_v2_feature_extractor_test.cpython-36.pyc\n",
      "byte-compiling build/bdist.linux-x86_64/egg/object_detection/models/ssd_inception_v3_feature_extractor.py to ssd_inception_v3_feature_extractor.cpython-36.pyc\n",
      "byte-compiling build/bdist.linux-x86_64/egg/object_detection/models/ssd_inception_v3_feature_extractor_test.py to ssd_inception_v3_feature_extractor_test.cpython-36.pyc\n",
      "byte-compiling build/bdist.linux-x86_64/egg/object_detection/models/ssd_mobilenet_v1_feature_extractor.py to ssd_mobilenet_v1_feature_extractor.cpython-36.pyc\n",
      "byte-compiling build/bdist.linux-x86_64/egg/object_detection/models/ssd_mobilenet_v1_feature_extractor_test.py to ssd_mobilenet_v1_feature_extractor_test.cpython-36.pyc\n",
      "byte-compiling build/bdist.linux-x86_64/egg/object_detection/models/__init__.py to __init__.cpython-36.pyc\n",
      "byte-compiling build/bdist.linux-x86_64/egg/object_detection/protos/anchor_generator_pb2.py to anchor_generator_pb2.cpython-36.pyc\n",
      "byte-compiling build/bdist.linux-x86_64/egg/object_detection/protos/argmax_matcher_pb2.py to argmax_matcher_pb2.cpython-36.pyc\n",
      "byte-compiling build/bdist.linux-x86_64/egg/object_detection/protos/bipartite_matcher_pb2.py to bipartite_matcher_pb2.cpython-36.pyc\n",
      "byte-compiling build/bdist.linux-x86_64/egg/object_detection/protos/box_coder_pb2.py to box_coder_pb2.cpython-36.pyc\n",
      "byte-compiling build/bdist.linux-x86_64/egg/object_detection/protos/box_predictor_pb2.py to box_predictor_pb2.cpython-36.pyc\n",
      "byte-compiling build/bdist.linux-x86_64/egg/object_detection/protos/eval_pb2.py to eval_pb2.cpython-36.pyc\n",
      "byte-compiling build/bdist.linux-x86_64/egg/object_detection/protos/faster_rcnn_box_coder_pb2.py to faster_rcnn_box_coder_pb2.cpython-36.pyc\n",
      "byte-compiling build/bdist.linux-x86_64/egg/object_detection/protos/faster_rcnn_pb2.py to faster_rcnn_pb2.cpython-36.pyc\n",
      "byte-compiling build/bdist.linux-x86_64/egg/object_detection/protos/grid_anchor_generator_pb2.py to grid_anchor_generator_pb2.cpython-36.pyc\n",
      "byte-compiling build/bdist.linux-x86_64/egg/object_detection/protos/hyperparams_pb2.py to hyperparams_pb2.cpython-36.pyc\n",
      "byte-compiling build/bdist.linux-x86_64/egg/object_detection/protos/image_resizer_pb2.py to image_resizer_pb2.cpython-36.pyc\n",
      "byte-compiling build/bdist.linux-x86_64/egg/object_detection/protos/input_reader_pb2.py to input_reader_pb2.cpython-36.pyc\n",
      "byte-compiling build/bdist.linux-x86_64/egg/object_detection/protos/keypoint_box_coder_pb2.py to keypoint_box_coder_pb2.cpython-36.pyc\n",
      "byte-compiling build/bdist.linux-x86_64/egg/object_detection/protos/losses_pb2.py to losses_pb2.cpython-36.pyc\n",
      "byte-compiling build/bdist.linux-x86_64/egg/object_detection/protos/matcher_pb2.py to matcher_pb2.cpython-36.pyc\n",
      "byte-compiling build/bdist.linux-x86_64/egg/object_detection/protos/mean_stddev_box_coder_pb2.py to mean_stddev_box_coder_pb2.cpython-36.pyc\n",
      "byte-compiling build/bdist.linux-x86_64/egg/object_detection/protos/model_pb2.py to model_pb2.cpython-36.pyc\n",
      "byte-compiling build/bdist.linux-x86_64/egg/object_detection/protos/optimizer_pb2.py to optimizer_pb2.cpython-36.pyc\n",
      "byte-compiling build/bdist.linux-x86_64/egg/object_detection/protos/pipeline_pb2.py to pipeline_pb2.cpython-36.pyc\n",
      "byte-compiling build/bdist.linux-x86_64/egg/object_detection/protos/post_processing_pb2.py to post_processing_pb2.cpython-36.pyc\n",
      "byte-compiling build/bdist.linux-x86_64/egg/object_detection/protos/preprocessor_pb2.py to preprocessor_pb2.cpython-36.pyc\n",
      "byte-compiling build/bdist.linux-x86_64/egg/object_detection/protos/region_similarity_calculator_pb2.py to region_similarity_calculator_pb2.cpython-36.pyc\n",
      "byte-compiling build/bdist.linux-x86_64/egg/object_detection/protos/square_box_coder_pb2.py to square_box_coder_pb2.cpython-36.pyc\n",
      "byte-compiling build/bdist.linux-x86_64/egg/object_detection/protos/ssd_anchor_generator_pb2.py to ssd_anchor_generator_pb2.cpython-36.pyc\n",
      "byte-compiling build/bdist.linux-x86_64/egg/object_detection/protos/ssd_pb2.py to ssd_pb2.cpython-36.pyc\n",
      "byte-compiling build/bdist.linux-x86_64/egg/object_detection/protos/string_int_label_map_pb2.py to string_int_label_map_pb2.cpython-36.pyc\n",
      "byte-compiling build/bdist.linux-x86_64/egg/object_detection/protos/train_pb2.py to train_pb2.cpython-36.pyc\n",
      "byte-compiling build/bdist.linux-x86_64/egg/object_detection/protos/__init__.py to __init__.cpython-36.pyc\n",
      "byte-compiling build/bdist.linux-x86_64/egg/object_detection/train.py to train.cpython-36.pyc\n",
      "byte-compiling build/bdist.linux-x86_64/egg/object_detection/trainer.py to trainer.cpython-36.pyc\n",
      "byte-compiling build/bdist.linux-x86_64/egg/object_detection/trainer_test.py to trainer_test.cpython-36.pyc\n",
      "byte-compiling build/bdist.linux-x86_64/egg/object_detection/utils/np_box_ops.py to np_box_ops.cpython-36.pyc\n",
      "byte-compiling build/bdist.linux-x86_64/egg/object_detection/utils/category_util.py to category_util.cpython-36.pyc\n",
      "byte-compiling build/bdist.linux-x86_64/egg/object_detection/utils/category_util_test.py to category_util_test.cpython-36.pyc\n",
      "byte-compiling build/bdist.linux-x86_64/egg/object_detection/utils/config_util.py to config_util.cpython-36.pyc\n",
      "byte-compiling build/bdist.linux-x86_64/egg/object_detection/utils/config_util_test.py to config_util_test.cpython-36.pyc\n",
      "byte-compiling build/bdist.linux-x86_64/egg/object_detection/utils/dataset_util.py to dataset_util.cpython-36.pyc\n",
      "byte-compiling build/bdist.linux-x86_64/egg/object_detection/utils/dataset_util_test.py to dataset_util_test.cpython-36.pyc\n",
      "byte-compiling build/bdist.linux-x86_64/egg/object_detection/utils/label_map_util.py to label_map_util.cpython-36.pyc\n",
      "byte-compiling build/bdist.linux-x86_64/egg/object_detection/utils/label_map_util_test.py to label_map_util_test.cpython-36.pyc\n",
      "byte-compiling build/bdist.linux-x86_64/egg/object_detection/utils/learning_schedules.py to learning_schedules.cpython-36.pyc\n",
      "byte-compiling build/bdist.linux-x86_64/egg/object_detection/utils/learning_schedules_test.py to learning_schedules_test.cpython-36.pyc\n",
      "byte-compiling build/bdist.linux-x86_64/egg/object_detection/utils/metrics.py to metrics.cpython-36.pyc\n",
      "byte-compiling build/bdist.linux-x86_64/egg/object_detection/utils/metrics_test.py to metrics_test.cpython-36.pyc\n",
      "byte-compiling build/bdist.linux-x86_64/egg/object_detection/utils/np_box_list.py to np_box_list.cpython-36.pyc\n",
      "byte-compiling build/bdist.linux-x86_64/egg/object_detection/utils/np_box_list_ops.py to np_box_list_ops.cpython-36.pyc\n",
      "byte-compiling build/bdist.linux-x86_64/egg/object_detection/utils/np_box_list_ops_test.py to np_box_list_ops_test.cpython-36.pyc\n",
      "byte-compiling build/bdist.linux-x86_64/egg/object_detection/utils/np_box_list_test.py to np_box_list_test.cpython-36.pyc\n",
      "byte-compiling build/bdist.linux-x86_64/egg/object_detection/utils/np_box_ops_test.py to np_box_ops_test.cpython-36.pyc\n",
      "byte-compiling build/bdist.linux-x86_64/egg/object_detection/utils/object_detection_evaluation.py to object_detection_evaluation.cpython-36.pyc\n",
      "byte-compiling build/bdist.linux-x86_64/egg/object_detection/utils/object_detection_evaluation_test.py to object_detection_evaluation_test.cpython-36.pyc\n",
      "byte-compiling build/bdist.linux-x86_64/egg/object_detection/utils/ops.py to ops.cpython-36.pyc\n",
      "byte-compiling build/bdist.linux-x86_64/egg/object_detection/utils/ops_test.py to ops_test.cpython-36.pyc\n",
      "byte-compiling build/bdist.linux-x86_64/egg/object_detection/utils/per_image_evaluation.py to per_image_evaluation.cpython-36.pyc\n",
      "byte-compiling build/bdist.linux-x86_64/egg/object_detection/utils/per_image_evaluation_test.py to per_image_evaluation_test.cpython-36.pyc\n",
      "byte-compiling build/bdist.linux-x86_64/egg/object_detection/utils/shape_utils.py to shape_utils.cpython-36.pyc\n",
      "byte-compiling build/bdist.linux-x86_64/egg/object_detection/utils/shape_utils_test.py to shape_utils_test.cpython-36.pyc\n",
      "byte-compiling build/bdist.linux-x86_64/egg/object_detection/utils/static_shape.py to static_shape.cpython-36.pyc\n",
      "byte-compiling build/bdist.linux-x86_64/egg/object_detection/utils/static_shape_test.py to static_shape_test.cpython-36.pyc\n",
      "byte-compiling build/bdist.linux-x86_64/egg/object_detection/utils/test_utils.py to test_utils.cpython-36.pyc\n",
      "byte-compiling build/bdist.linux-x86_64/egg/object_detection/utils/test_utils_test.py to test_utils_test.cpython-36.pyc\n",
      "byte-compiling build/bdist.linux-x86_64/egg/object_detection/utils/variables_helper.py to variables_helper.cpython-36.pyc\n",
      "byte-compiling build/bdist.linux-x86_64/egg/object_detection/utils/variables_helper_test.py to variables_helper_test.cpython-36.pyc\n",
      "byte-compiling build/bdist.linux-x86_64/egg/object_detection/utils/visualization_utils.py to visualization_utils.cpython-36.pyc\n",
      "byte-compiling build/bdist.linux-x86_64/egg/object_detection/utils/visualization_utils_test.py to visualization_utils_test.cpython-36.pyc\n",
      "byte-compiling build/bdist.linux-x86_64/egg/object_detection/utils/__init__.py to __init__.cpython-36.pyc\n",
      "byte-compiling build/bdist.linux-x86_64/egg/object_detection/__init__.py to __init__.cpython-36.pyc\n",
      "creating build/bdist.linux-x86_64/egg/EGG-INFO\n",
      "copying object_detection.egg-info/PKG-INFO -> build/bdist.linux-x86_64/egg/EGG-INFO\n",
      "copying object_detection.egg-info/SOURCES.txt -> build/bdist.linux-x86_64/egg/EGG-INFO\n",
      "copying object_detection.egg-info/dependency_links.txt -> build/bdist.linux-x86_64/egg/EGG-INFO\n",
      "copying object_detection.egg-info/requires.txt -> build/bdist.linux-x86_64/egg/EGG-INFO\n",
      "copying object_detection.egg-info/top_level.txt -> build/bdist.linux-x86_64/egg/EGG-INFO\n",
      "zip_safe flag not set; analyzing archive contents...\n",
      "creating 'dist/object_detection-0.1-py3.6.egg' and adding 'build/bdist.linux-x86_64/egg' to it\n",
      "removing 'build/bdist.linux-x86_64/egg' (and everything under it)\n",
      "Processing object_detection-0.1-py3.6.egg\n",
      "Removing /home/camivasz/anaconda3/envs/pi/lib/python3.6/site-packages/object_detection-0.1-py3.6.egg\n",
      "Copying object_detection-0.1-py3.6.egg to /home/camivasz/anaconda3/envs/pi/lib/python3.6/site-packages\n",
      "object-detection 0.1 is already the active version in easy-install.pth\n",
      "\n",
      "Installed /home/camivasz/anaconda3/envs/pi/lib/python3.6/site-packages/object_detection-0.1-py3.6.egg\n",
      "Processing dependencies for object-detection==0.1\n",
      "Searching for Pillow==5.4.1\n",
      "Best match: Pillow 5.4.1\n",
      "Adding Pillow 5.4.1 to easy-install.pth file\n",
      "\n",
      "Using /home/camivasz/.local/lib/python3.6/site-packages\n",
      "Finished processing dependencies for object-detection==0.1\n",
      "/media/camivasz/D6E67D60E67D4233/Nowcasting/Notebook/models\n"
     ]
    }
   ],
   "source": [
    "%cd research/\n",
    "!protoc object_detection/protos/*.proto --python_out=.\n",
    "!python setup.py build\n",
    "!python setup.py install\n",
    "%cd .."
   ]
  },
  {
   "cell_type": "markdown",
   "metadata": {},
   "source": [
    "#### Configure PYTHONPATH environment variable\n",
    "A PYTHONPATH variable must be created that points to the \\models, \\models\\research, and \\models\\research\\slim directories. "
   ]
  },
  {
   "cell_type": "code",
   "execution_count": 4,
   "metadata": {
    "scrolled": true
   },
   "outputs": [],
   "source": [
    "import sys\n",
    "import os\n",
    "\n",
    "PATH = os.getcwd() + \"/research/:\" + os.getcwd() + \"/research/object_detection/:\" + os.getcwd() + \"/research/slim/\"\n",
    "os.environ[\"PYTHONPATH\"] = PATH"
   ]
  },
  {
   "cell_type": "markdown",
   "metadata": {},
   "source": [
    "### Generate the training dataset\n",
    "\n",
    "#### Gather and label images\n",
    "For the image labeling, we used the [LabelImg](https://github.com/tzutalin/labelImg) tool. LabelImg saves a .xml file containing the label data for each image. These .xml files will be used to generate TFRecords, which are one of the inputs to the TensorFlow trainer."
   ]
  },
  {
   "cell_type": "markdown",
   "metadata": {},
   "source": [
    "#### Generate csv file\n",
    "Select the train and test data, and put them in the images folder In the repository for the tutorial, there are two scripts called 'xml_to_csv.py', that takes the xml provided by the labeling and creates a csv containing the information for the tf.record to be created."
   ]
  },
  {
   "cell_type": "code",
   "execution_count": 5,
   "metadata": {},
   "outputs": [
    {
     "name": "stdout",
     "output_type": "stream",
     "text": [
      "/media/camivasz/D6E67D60E67D4233/Nowcasting/Notebook\n"
     ]
    }
   ],
   "source": [
    "%cd .."
   ]
  },
  {
   "cell_type": "code",
   "execution_count": 6,
   "metadata": {},
   "outputs": [
    {
     "name": "stdout",
     "output_type": "stream",
     "text": [
      "/media/camivasz/D6E67D60E67D4233/Nowcasting/Notebook/train\n"
     ]
    }
   ],
   "source": [
    "%cd train"
   ]
  },
  {
   "cell_type": "markdown",
   "metadata": {},
   "source": [
    "#### Run the xml_to_csv.py file\n",
    "This script translates the information contained in the xml files and generates a csv in order to create a tf.record, necessary to feed the model with our data. In order to use this script, we must have an xml file for each one of the images in the same folder. Next, generate the csv."
   ]
  },
  {
   "cell_type": "code",
   "execution_count": 7,
   "metadata": {},
   "outputs": [
    {
     "name": "stdout",
     "output_type": "stream",
     "text": [
      "Successfully converted xml to csv.\n",
      "Successfully converted xml to csv.\n"
     ]
    }
   ],
   "source": [
    "!python xml_to_csv.py"
   ]
  },
  {
   "cell_type": "markdown",
   "metadata": {},
   "source": [
    "#### Generate tf.record\n",
    "Now, with the script 'generate_tfrecord.py' we are going to generate the tf.record In order to use this script with other dataset, it is necessary to provide the label map, starting in line 31, with the new label map, where each object is assigned an ID number. Next, generate the tf.record."
   ]
  },
  {
   "cell_type": "code",
   "execution_count": 8,
   "metadata": {},
   "outputs": [
    {
     "name": "stdout",
     "output_type": "stream",
     "text": [
      "Successfully created the TFRecords: /media/camivasz/D6E67D60E67D4233/Nowcasting/Notebook/train/train.record\n",
      "Successfully created the TFRecords: /media/camivasz/D6E67D60E67D4233/Nowcasting/Notebook/train/test.record\n"
     ]
    }
   ],
   "source": [
    "!python generate_tfrecord.py --csv_input='images/train_labels.csv' --image_dir='images/train' --output_path='train.record'\n",
    "!python generate_tfrecord.py --csv_input='images/test_labels.csv' --image_dir='images/test' --output_path='test.record'"
   ]
  },
  {
   "cell_type": "markdown",
   "metadata": {},
   "source": [
    "### Download\n",
    "The model that will be used is the SSD Mobilenet. Download the model from the model zoo mentioned above. The model must be located in the training folder."
   ]
  },
  {
   "cell_type": "code",
   "execution_count": 9,
   "metadata": {},
   "outputs": [
    {
     "name": "stdout",
     "output_type": "stream",
     "text": [
      "/media/camivasz/D6E67D60E67D4233/Nowcasting/Notebook/train/training\n"
     ]
    }
   ],
   "source": [
    "%cd training/"
   ]
  },
  {
   "cell_type": "code",
   "execution_count": 10,
   "metadata": {},
   "outputs": [
    {
     "name": "stdout",
     "output_type": "stream",
     "text": [
      "--2019-06-11 10:09:10--  http://download.tensorflow.org/models/object_detection/ssd_mobilenet_v1_coco_2018_01_28.tar.gz\n",
      "Resolving download.tensorflow.org (download.tensorflow.org)... 172.217.30.208, 2800:3f0:4005:400::2010\n",
      "Connecting to download.tensorflow.org (download.tensorflow.org)|172.217.30.208|:80... connected.\n",
      "HTTP request sent, awaiting response... 200 OK\n",
      "Length: 76541073 (73M) [application/x-tar]\n",
      "Saving to: ‘ssd_mobilenet_v1_coco_2018_01_28.tar.gz’\n",
      "\n",
      "ssd_mobilenet_v1_co 100%[===================>]  73,00M  22,7MB/s    in 3,5s    \n",
      "\n",
      "2019-06-11 10:09:14 (21,1 MB/s) - ‘ssd_mobilenet_v1_coco_2018_01_28.tar.gz’ saved [76541073/76541073]\n",
      "\n",
      "ssd_mobilenet_v1_coco_2018_01_28/\n",
      "ssd_mobilenet_v1_coco_2018_01_28/model.ckpt.index\n",
      "ssd_mobilenet_v1_coco_2018_01_28/checkpoint\n",
      "ssd_mobilenet_v1_coco_2018_01_28/pipeline.config\n",
      "ssd_mobilenet_v1_coco_2018_01_28/model.ckpt.data-00000-of-00001\n",
      "ssd_mobilenet_v1_coco_2018_01_28/model.ckpt.meta\n",
      "ssd_mobilenet_v1_coco_2018_01_28/saved_model/\n",
      "ssd_mobilenet_v1_coco_2018_01_28/saved_model/saved_model.pb\n",
      "ssd_mobilenet_v1_coco_2018_01_28/saved_model/variables/\n",
      "ssd_mobilenet_v1_coco_2018_01_28/frozen_inference_graph.pb\n"
     ]
    }
   ],
   "source": [
    "!wget http://download.tensorflow.org/models/object_detection/ssd_mobilenet_v1_coco_2018_01_28.tar.gz\n",
    "!tar xvf ssd_mobilenet_v1_coco_2018_01_28.tar.gz\n",
    "!rm ssd_mobilenet_v1_coco_2018_01_28.tar.gz"
   ]
  },
  {
   "cell_type": "markdown",
   "metadata": {},
   "source": [
    "### Configure training \n",
    "\n",
    "#### Label map\n",
    "The label map tells the trainer what each object is by defining a mapping of class names to class ID numbers. Yo can modify the 'labelmap.pbtxt' file in the training folder to perform this step. The label map ID numbers should be the same as what is defined in the generate_tfrecord.py file.\n",
    "\n",
    "#### Configure training\n",
    "Finally, the object detection training pipeline must be configured. It defines which model and what parameters will be used for training.\n",
    "\n",
    "Navigate to models\\research\\object_detection\\samples\\configs and copy the '...pets.config' file for the model chosen into the \\object_detection\\training directory.\n",
    "\n",
    "Make the following changes to the '...config file'. Note: The paths must be entered with single forward slashes (NOT backslashes), or TensorFlow will give a file path error when trying to train the model! Also, the paths must be in double quotation marks ( \" ), not single quotation marks ( ' ). You can see the example used in the training folder.\n",
    "\n",
    "* Change num_classes to the number of different objects you want the classifier to detect. \n",
    "\n",
    "* Change fine_tune_checkpoint to the path to the model.ckpt downloaded from the model.\n",
    "\n",
    "* Change the input_path for the path to te train.record generated.\n",
    "\n",
    "* Change the label_map_path for the path to the modified label map.\n",
    "\n",
    "* Change the num_examples to the umber of images you have in the \\images\\test directory.\n",
    "\n",
    "Save the file after the changes have been made."
   ]
  },
  {
   "cell_type": "code",
   "execution_count": 11,
   "metadata": {},
   "outputs": [
    {
     "name": "stdout",
     "output_type": "stream",
     "text": [
      "/media/camivasz/D6E67D60E67D4233/Nowcasting/Notebook/models\n"
     ]
    }
   ],
   "source": [
    "%cd ../../models"
   ]
  },
  {
   "cell_type": "markdown",
   "metadata": {},
   "source": [
    "Ready to go, run the following line and make sure everything is in the right path. After a while, you will see that the loss does not change a lot, so you can stop the training and continue."
   ]
  },
  {
   "cell_type": "code",
   "execution_count": 12,
   "metadata": {},
   "outputs": [
    {
     "name": "stdout",
     "output_type": "stream",
     "text": [
      "WARNING:tensorflow:From /media/camivasz/D6E67D60E67D4233/Nowcasting/Notebook/models/research/object_detection/trainer.py:210: create_global_step (from tensorflow.contrib.framework.python.ops.variables) is deprecated and will be removed in a future version.\n",
      "Instructions for updating:\n",
      "Please switch to tf.train.create_global_step\n",
      "WARNING:tensorflow:From /media/camivasz/D6E67D60E67D4233/Nowcasting/Notebook/models/research/object_detection/core/preprocessor.py:2528: calling squeeze (from tensorflow.python.ops.array_ops) with squeeze_dims is deprecated and will be removed in a future version.\n",
      "Instructions for updating:\n",
      "Use the `axis` argument instead\n",
      "INFO:tensorflow:depth of additional conv before box predictor: 0\n",
      "INFO:tensorflow:depth of additional conv before box predictor: 0\n",
      "INFO:tensorflow:depth of additional conv before box predictor: 0\n",
      "INFO:tensorflow:depth of additional conv before box predictor: 0\n",
      "INFO:tensorflow:depth of additional conv before box predictor: 0\n",
      "INFO:tensorflow:depth of additional conv before box predictor: 0\n",
      "INFO:tensorflow:Summary name /clone_loss is illegal; using clone_loss instead.\n",
      "WARNING:tensorflow:From /home/camivasz/anaconda3/envs/pi/lib/python3.6/site-packages/tensorflow/contrib/slim/python/slim/learning.py:737: Supervisor.__init__ (from tensorflow.python.training.supervisor) is deprecated and will be removed in a future version.\n",
      "Instructions for updating:\n",
      "Please switch to tf.train.MonitoredTrainingSession\n",
      "2019-06-11 10:18:41.741402: I tensorflow/core/platform/cpu_feature_guard.cc:141] Your CPU supports instructions that this TensorFlow binary was not compiled to use: SSE4.1 SSE4.2 AVX AVX2 FMA\n",
      "2019-06-11 10:18:41.742530: I tensorflow/core/common_runtime/process_util.cc:69] Creating new thread pool with default inter op setting: 2. Tune using inter_op_parallelism_threads for best performance.\n",
      "INFO:tensorflow:Restoring parameters from ../train/training/ssd_mobilenet_v1_coco_2018_01_28/model.ckpt\n",
      "INFO:tensorflow:Running local_init_op.\n",
      "INFO:tensorflow:Done running local_init_op.\n",
      "INFO:tensorflow:Starting Session.\n",
      "INFO:tensorflow:Saving checkpoint to path ../train/training/model.ckpt\n",
      "INFO:tensorflow:Starting Queues.\n",
      "INFO:tensorflow:global_step/sec: 0\n",
      "INFO:tensorflow:Recording summary at step 0.\n",
      "INFO:tensorflow:global step 1: loss = 46.7397 (38.127 sec/step)\n",
      "INFO:tensorflow:global step 2: loss = 41.1536 (1.912 sec/step)\n",
      "INFO:tensorflow:global step 3: loss = 38.2079 (1.371 sec/step)\n",
      "INFO:tensorflow:global step 4: loss = 37.0013 (1.296 sec/step)\n",
      "INFO:tensorflow:global step 5: loss = 37.5564 (1.310 sec/step)\n",
      "INFO:tensorflow:global step 6: loss = 34.8732 (1.395 sec/step)\n",
      "INFO:tensorflow:global step 7: loss = 34.8279 (1.297 sec/step)\n",
      "INFO:tensorflow:global step 8: loss = 32.6577 (1.293 sec/step)\n",
      "INFO:tensorflow:global step 9: loss = 31.5598 (1.278 sec/step)\n",
      "INFO:tensorflow:global step 10: loss = 31.1372 (1.306 sec/step)\n",
      "INFO:tensorflow:global step 11: loss = 29.0115 (1.283 sec/step)\n",
      "INFO:tensorflow:global step 12: loss = 29.2022 (1.304 sec/step)\n",
      "INFO:tensorflow:global step 13: loss = 28.6139 (1.307 sec/step)\n",
      "INFO:tensorflow:global step 14: loss = 26.4233 (1.259 sec/step)\n",
      "INFO:tensorflow:global step 15: loss = 26.3141 (1.273 sec/step)\n",
      "INFO:tensorflow:global step 16: loss = 24.8496 (1.288 sec/step)\n",
      "INFO:tensorflow:global step 17: loss = 24.3308 (1.338 sec/step)\n",
      "INFO:tensorflow:global step 18: loss = 24.0781 (1.315 sec/step)\n",
      "INFO:tensorflow:global step 19: loss = 24.0305 (1.309 sec/step)\n",
      "INFO:tensorflow:global step 20: loss = 22.7618 (1.327 sec/step)\n",
      "INFO:tensorflow:global step 21: loss = 22.8113 (1.296 sec/step)\n",
      "INFO:tensorflow:global step 22: loss = 21.1429 (1.273 sec/step)\n",
      "INFO:tensorflow:global step 23: loss = 20.9199 (1.286 sec/step)\n",
      "INFO:tensorflow:global step 24: loss = 20.6722 (1.311 sec/step)\n",
      "INFO:tensorflow:global step 25: loss = 21.6847 (1.272 sec/step)\n",
      "INFO:tensorflow:global step 26: loss = 18.7328 (1.422 sec/step)\n",
      "INFO:tensorflow:global step 27: loss = 18.8915 (1.262 sec/step)\n",
      "INFO:tensorflow:global step 28: loss = 18.5343 (1.256 sec/step)\n",
      "INFO:tensorflow:global step 29: loss = 18.1407 (1.268 sec/step)\n",
      "INFO:tensorflow:global step 30: loss = 18.3831 (1.314 sec/step)\n",
      "INFO:tensorflow:global step 31: loss = 17.0301 (1.320 sec/step)\n",
      "INFO:tensorflow:global step 32: loss = 17.2721 (1.334 sec/step)\n",
      "INFO:tensorflow:global step 33: loss = 17.4491 (1.330 sec/step)\n",
      "INFO:tensorflow:global step 34: loss = 16.7463 (1.267 sec/step)\n",
      "INFO:tensorflow:global step 35: loss = 16.0121 (1.288 sec/step)\n",
      "INFO:tensorflow:global step 36: loss = 16.0204 (1.311 sec/step)\n",
      "INFO:tensorflow:global step 37: loss = 15.9745 (1.262 sec/step)\n",
      "INFO:tensorflow:global step 38: loss = 15.2477 (1.300 sec/step)\n",
      "INFO:tensorflow:global step 39: loss = 15.3304 (1.314 sec/step)\n",
      "INFO:tensorflow:global step 40: loss = 14.6934 (1.281 sec/step)\n",
      "INFO:tensorflow:global step 41: loss = 14.9664 (1.287 sec/step)\n",
      "INFO:tensorflow:global step 42: loss = 16.5373 (1.256 sec/step)\n",
      "INFO:tensorflow:global step 43: loss = 15.4006 (1.276 sec/step)\n",
      "INFO:tensorflow:global step 44: loss = 14.3609 (1.302 sec/step)\n",
      "INFO:tensorflow:global step 45: loss = 14.3868 (1.331 sec/step)\n",
      "INFO:tensorflow:global step 46: loss = 14.6328 (1.325 sec/step)\n",
      "INFO:tensorflow:global step 47: loss = 14.6042 (1.290 sec/step)\n",
      "INFO:tensorflow:global step 48: loss = 14.1873 (1.280 sec/step)\n",
      "INFO:tensorflow:global step 49: loss = 14.4724 (1.240 sec/step)\n",
      "INFO:tensorflow:global step 50: loss = 14.4485 (1.311 sec/step)\n",
      "INFO:tensorflow:global step 51: loss = 14.3344 (1.343 sec/step)\n",
      "INFO:tensorflow:global step 52: loss = 14.4060 (1.307 sec/step)\n",
      "INFO:tensorflow:global step 53: loss = 14.4341 (1.304 sec/step)\n",
      "INFO:tensorflow:global step 54: loss = 14.0271 (1.282 sec/step)\n",
      "INFO:tensorflow:global step 55: loss = 13.3668 (1.312 sec/step)\n",
      "INFO:tensorflow:global step 56: loss = 13.1240 (1.317 sec/step)\n",
      "INFO:tensorflow:global step 57: loss = 14.5596 (1.290 sec/step)\n",
      "INFO:tensorflow:global step 58: loss = 13.4797 (1.272 sec/step)\n",
      "INFO:tensorflow:global step 59: loss = 13.8577 (1.303 sec/step)\n",
      "INFO:tensorflow:global step 60: loss = 13.6066 (1.291 sec/step)\n",
      "INFO:tensorflow:global step 61: loss = 13.8168 (1.303 sec/step)\n",
      "INFO:tensorflow:global step 62: loss = 13.7886 (1.319 sec/step)\n",
      "INFO:tensorflow:global step 63: loss = 12.8297 (1.383 sec/step)\n",
      "INFO:tensorflow:Recording summary at step 63.\n",
      "INFO:tensorflow:global step 64: loss = 13.5014 (1.535 sec/step)\n",
      "INFO:tensorflow:global step 65: loss = 14.5606 (1.301 sec/step)\n",
      "INFO:tensorflow:global step 66: loss = 13.0079 (1.306 sec/step)\n",
      "INFO:tensorflow:global step 67: loss = 12.5802 (1.263 sec/step)\n",
      "INFO:tensorflow:global step 68: loss = 12.9954 (1.282 sec/step)\n",
      "INFO:tensorflow:global step 69: loss = 13.8796 (1.276 sec/step)\n",
      "INFO:tensorflow:global step 70: loss = 13.1421 (1.296 sec/step)\n",
      "INFO:tensorflow:global_step/sec: 0.717003\n",
      "INFO:tensorflow:global step 71: loss = 13.3209 (1.281 sec/step)\n",
      "INFO:tensorflow:global step 72: loss = 13.5853 (1.303 sec/step)\n",
      "INFO:tensorflow:global step 73: loss = 13.2076 (1.292 sec/step)\n",
      "INFO:tensorflow:global step 74: loss = 12.7553 (1.298 sec/step)\n",
      "INFO:tensorflow:global step 75: loss = 12.9991 (1.318 sec/step)\n",
      "INFO:tensorflow:global step 76: loss = 13.3407 (1.292 sec/step)\n",
      "INFO:tensorflow:global step 77: loss = 12.7849 (1.278 sec/step)\n",
      "INFO:tensorflow:global step 78: loss = 13.2440 (1.300 sec/step)\n",
      "INFO:tensorflow:global step 79: loss = 13.6269 (1.325 sec/step)\n",
      "INFO:tensorflow:global step 80: loss = 13.1203 (1.331 sec/step)\n",
      "INFO:tensorflow:global step 81: loss = 12.7314 (1.317 sec/step)\n",
      "INFO:tensorflow:global step 82: loss = 14.1764 (1.313 sec/step)\n",
      "INFO:tensorflow:global step 83: loss = 13.0616 (1.256 sec/step)\n",
      "INFO:tensorflow:global step 84: loss = 13.6378 (1.289 sec/step)\n",
      "INFO:tensorflow:global step 85: loss = 12.7110 (1.304 sec/step)\n",
      "INFO:tensorflow:global step 86: loss = 12.8311 (1.400 sec/step)\n",
      "INFO:tensorflow:global step 87: loss = 12.3958 (1.313 sec/step)\n",
      "INFO:tensorflow:global step 88: loss = 13.0872 (1.334 sec/step)\n",
      "INFO:tensorflow:global step 89: loss = 13.5610 (1.321 sec/step)\n",
      "INFO:tensorflow:global step 90: loss = 12.0970 (1.295 sec/step)\n",
      "INFO:tensorflow:global step 91: loss = 12.8297 (1.315 sec/step)\n",
      "INFO:tensorflow:global step 92: loss = 12.9724 (1.373 sec/step)\n",
      "INFO:tensorflow:global step 93: loss = 12.5202 (1.393 sec/step)\n",
      "INFO:tensorflow:global step 94: loss = 13.0034 (1.353 sec/step)\n",
      "INFO:tensorflow:global step 95: loss = 11.7549 (1.298 sec/step)\n",
      "INFO:tensorflow:global step 96: loss = 12.9309 (1.275 sec/step)\n",
      "INFO:tensorflow:global step 97: loss = 12.3950 (1.302 sec/step)\n",
      "INFO:tensorflow:global step 98: loss = 12.4869 (1.319 sec/step)\n",
      "INFO:tensorflow:global step 99: loss = 12.6293 (1.302 sec/step)\n",
      "INFO:tensorflow:global step 100: loss = 12.5339 (1.289 sec/step)\n",
      "INFO:tensorflow:global step 101: loss = 13.1386 (1.347 sec/step)\n",
      "INFO:tensorflow:global step 102: loss = 13.7321 (1.322 sec/step)\n",
      "INFO:tensorflow:global step 103: loss = 12.5640 (1.285 sec/step)\n",
      "INFO:tensorflow:global step 104: loss = 12.3234 (1.323 sec/step)\n",
      "INFO:tensorflow:global step 105: loss = 12.6940 (1.298 sec/step)\n",
      "INFO:tensorflow:global step 106: loss = 11.7995 (1.279 sec/step)\n",
      "INFO:tensorflow:global step 107: loss = 12.6965 (1.305 sec/step)\n",
      "INFO:tensorflow:global step 108: loss = 12.8127 (1.273 sec/step)\n",
      "INFO:tensorflow:global step 109: loss = 12.6691 (1.312 sec/step)\n",
      "INFO:tensorflow:global step 110: loss = 12.4418 (1.302 sec/step)\n",
      "INFO:tensorflow:global step 111: loss = 12.4987 (1.313 sec/step)\n",
      "INFO:tensorflow:global step 112: loss = 12.3600 (1.308 sec/step)\n",
      "INFO:tensorflow:global step 113: loss = 12.8431 (1.296 sec/step)\n",
      "INFO:tensorflow:global step 114: loss = 11.9884 (1.316 sec/step)\n",
      "INFO:tensorflow:global step 115: loss = 12.6747 (1.318 sec/step)\n",
      "INFO:tensorflow:global step 116: loss = 13.1163 (1.346 sec/step)\n",
      "INFO:tensorflow:global step 117: loss = 11.9902 (1.297 sec/step)\n",
      "INFO:tensorflow:global step 118: loss = 13.4655 (1.302 sec/step)\n",
      "INFO:tensorflow:global step 119: loss = 12.2349 (1.291 sec/step)\n",
      "INFO:tensorflow:global step 120: loss = 12.2492 (1.296 sec/step)\n",
      "INFO:tensorflow:global step 121: loss = 12.8756 (1.286 sec/step)\n",
      "INFO:tensorflow:global step 122: loss = 12.6579 (1.328 sec/step)\n",
      "INFO:tensorflow:global step 123: loss = 12.4643 (1.343 sec/step)\n",
      "INFO:tensorflow:global step 124: loss = 13.2823 (1.313 sec/step)\n",
      "INFO:tensorflow:global step 125: loss = 13.2202 (1.318 sec/step)\n",
      "INFO:tensorflow:global step 126: loss = 12.7197 (1.321 sec/step)\n",
      "INFO:tensorflow:global step 127: loss = 12.2906 (1.295 sec/step)\n",
      "INFO:tensorflow:global step 128: loss = 12.6385 (1.293 sec/step)\n",
      "INFO:tensorflow:global step 129: loss = 12.0857 (1.324 sec/step)\n",
      "INFO:tensorflow:global step 130: loss = 12.7456 (1.327 sec/step)\n",
      "INFO:tensorflow:global step 131: loss = 12.3284 (1.320 sec/step)\n",
      "INFO:tensorflow:global step 132: loss = 12.5031 (1.327 sec/step)\n",
      "INFO:tensorflow:global step 133: loss = 12.1622 (1.329 sec/step)\n",
      "INFO:tensorflow:global step 134: loss = 12.1732 (1.274 sec/step)\n",
      "INFO:tensorflow:global step 135: loss = 11.9762 (1.290 sec/step)\n",
      "INFO:tensorflow:global step 136: loss = 11.8352 (1.327 sec/step)\n",
      "INFO:tensorflow:global step 137: loss = 12.3732 (1.301 sec/step)\n",
      "INFO:tensorflow:global step 138: loss = 12.3317 (1.292 sec/step)\n",
      "INFO:tensorflow:global step 139: loss = 11.8462 (1.350 sec/step)\n",
      "INFO:tensorflow:global step 140: loss = 12.6775 (1.292 sec/step)\n",
      "INFO:tensorflow:global step 141: loss = 12.5907 (1.293 sec/step)\n",
      "INFO:tensorflow:global step 142: loss = 11.8719 (1.299 sec/step)\n",
      "INFO:tensorflow:global step 143: loss = 12.2571 (1.317 sec/step)\n",
      "INFO:tensorflow:global step 144: loss = 11.8967 (1.293 sec/step)\n",
      "INFO:tensorflow:global step 145: loss = 11.8031 (1.346 sec/step)\n",
      "INFO:tensorflow:global step 146: loss = 12.4504 (1.315 sec/step)\n",
      "INFO:tensorflow:global step 147: loss = 12.5267 (1.348 sec/step)\n",
      "INFO:tensorflow:global step 148: loss = 12.9213 (1.324 sec/step)\n",
      "INFO:tensorflow:global step 149: loss = 13.2213 (1.343 sec/step)\n",
      "INFO:tensorflow:global step 150: loss = 11.4455 (1.317 sec/step)\n",
      "INFO:tensorflow:global step 151: loss = 12.6008 (1.360 sec/step)\n",
      "INFO:tensorflow:global step 152: loss = 11.7934 (1.347 sec/step)\n",
      "INFO:tensorflow:global step 153: loss = 11.7564 (1.306 sec/step)\n",
      "INFO:tensorflow:global step 154: loss = 11.7081 (1.411 sec/step)\n",
      "INFO:tensorflow:Recording summary at step 154.\n",
      "INFO:tensorflow:global step 155: loss = 11.9560 (1.601 sec/step)\n",
      "INFO:tensorflow:global step 156: loss = 12.2508 (1.341 sec/step)\n",
      "INFO:tensorflow:global step 157: loss = 12.2399 (1.347 sec/step)\n",
      "INFO:tensorflow:global step 158: loss = 12.5892 (1.351 sec/step)\n",
      "INFO:tensorflow:global step 159: loss = 11.8301 (1.361 sec/step)\n",
      "INFO:tensorflow:global step 160: loss = 11.5498 (1.335 sec/step)\n",
      "INFO:tensorflow:global step 161: loss = 13.9071 (1.302 sec/step)\n",
      "INFO:tensorflow:global_step/sec: 0.758329\n",
      "INFO:tensorflow:global step 162: loss = 12.0065 (1.299 sec/step)\n",
      "INFO:tensorflow:global step 163: loss = 11.4776 (1.277 sec/step)\n",
      "INFO:tensorflow:global step 164: loss = 12.2132 (1.294 sec/step)\n",
      "INFO:tensorflow:global step 165: loss = 11.6875 (1.320 sec/step)\n",
      "INFO:tensorflow:global step 166: loss = 12.1287 (1.290 sec/step)\n",
      "INFO:tensorflow:global step 167: loss = 12.1812 (1.282 sec/step)\n",
      "INFO:tensorflow:global step 168: loss = 12.3579 (1.289 sec/step)\n",
      "INFO:tensorflow:global step 169: loss = 12.1832 (1.304 sec/step)\n",
      "INFO:tensorflow:global step 170: loss = 12.3430 (1.303 sec/step)\n",
      "INFO:tensorflow:global step 171: loss = 12.6936 (1.319 sec/step)\n",
      "INFO:tensorflow:global step 172: loss = 12.7886 (1.299 sec/step)\n",
      "INFO:tensorflow:global step 173: loss = 12.3029 (1.267 sec/step)\n",
      "INFO:tensorflow:global step 174: loss = 12.0258 (1.288 sec/step)\n",
      "INFO:tensorflow:global step 175: loss = 12.4457 (1.315 sec/step)\n",
      "INFO:tensorflow:global step 176: loss = 13.2057 (1.328 sec/step)\n",
      "INFO:tensorflow:global step 177: loss = 11.8837 (1.318 sec/step)\n",
      "INFO:tensorflow:global step 178: loss = 13.0170 (1.287 sec/step)\n",
      "INFO:tensorflow:global step 179: loss = 11.5203 (1.300 sec/step)\n",
      "INFO:tensorflow:global step 180: loss = 12.2801 (1.270 sec/step)\n",
      "INFO:tensorflow:global step 181: loss = 12.1473 (1.302 sec/step)\n",
      "INFO:tensorflow:global step 182: loss = 12.5527 (1.267 sec/step)\n",
      "INFO:tensorflow:global step 183: loss = 12.0960 (1.272 sec/step)\n",
      "INFO:tensorflow:global step 184: loss = 12.2940 (1.289 sec/step)\n",
      "INFO:tensorflow:global step 185: loss = 11.6454 (1.329 sec/step)\n",
      "INFO:tensorflow:global step 186: loss = 12.0865 (1.271 sec/step)\n",
      "INFO:tensorflow:global step 187: loss = 11.9600 (1.271 sec/step)\n",
      "INFO:tensorflow:global step 188: loss = 11.3265 (1.286 sec/step)\n",
      "INFO:tensorflow:global step 189: loss = 12.2308 (1.285 sec/step)\n",
      "INFO:tensorflow:global step 190: loss = 13.1987 (1.343 sec/step)\n",
      "INFO:tensorflow:global step 191: loss = 12.0374 (1.299 sec/step)\n",
      "INFO:tensorflow:global step 192: loss = 12.0597 (1.300 sec/step)\n",
      "INFO:tensorflow:global step 193: loss = 12.4905 (1.285 sec/step)\n",
      "INFO:tensorflow:global step 194: loss = 12.1830 (1.508 sec/step)\n",
      "INFO:tensorflow:global step 195: loss = 12.0205 (1.465 sec/step)\n",
      "INFO:tensorflow:global step 196: loss = 12.3796 (1.348 sec/step)\n",
      "INFO:tensorflow:global step 197: loss = 12.2906 (1.394 sec/step)\n",
      "INFO:tensorflow:global step 198: loss = 12.8751 (1.294 sec/step)\n",
      "INFO:tensorflow:global step 199: loss = 11.8009 (1.622 sec/step)\n",
      "INFO:tensorflow:global step 200: loss = 12.0169 (1.343 sec/step)\n",
      "INFO:tensorflow:global step 201: loss = 11.7648 (1.389 sec/step)\n",
      "INFO:tensorflow:global step 202: loss = 12.2098 (1.512 sec/step)\n",
      "INFO:tensorflow:global step 203: loss = 11.9221 (1.508 sec/step)\n",
      "INFO:tensorflow:global step 204: loss = 11.6552 (1.611 sec/step)\n",
      "INFO:tensorflow:global step 205: loss = 12.0025 (1.605 sec/step)\n",
      "INFO:tensorflow:global step 206: loss = 12.1127 (1.568 sec/step)\n",
      "INFO:tensorflow:global step 207: loss = 11.9990 (1.362 sec/step)\n",
      "INFO:tensorflow:global step 208: loss = 12.1315 (1.126 sec/step)\n",
      "INFO:tensorflow:global step 209: loss = 12.2486 (1.131 sec/step)\n",
      "^C\n"
     ]
    }
   ],
   "source": [
    "!python research/object_detection/train.py --logtostderr --train_dir=../train/training/ --pipeline_config_path=../train/training/ssd_mobilenet_v1_coco.config"
   ]
  },
  {
   "cell_type": "markdown",
   "metadata": {},
   "source": [
    "#### Export the trained model\n",
    "In order to use the new model, we will export the inference graph constructed in the thaining. Make sure the paths are correct."
   ]
  },
  {
   "cell_type": "code",
   "execution_count": 13,
   "metadata": {},
   "outputs": [
    {
     "name": "stdout",
     "output_type": "stream",
     "text": [
      "/media/camivasz/D6E67D60E67D4233/Nowcasting/Notebook/models/research/object_detection\n"
     ]
    }
   ],
   "source": [
    "%cd research/object_detection/"
   ]
  },
  {
   "cell_type": "code",
   "execution_count": 15,
   "metadata": {
    "collapsed": true
   },
   "outputs": [
    {
     "name": "stdout",
     "output_type": "stream",
     "text": [
      "WARNING:tensorflow:From /media/camivasz/D6E67D60E67D4233/Nowcasting/Notebook/models/research/object_detection/exporter.py:357: get_or_create_global_step (from tensorflow.contrib.framework.python.ops.variables) is deprecated and will be removed in a future version.\n",
      "Instructions for updating:\n",
      "Please switch to tf.train.get_or_create_global_step\n",
      "2019-06-11 10:25:00.047190: I tensorflow/core/platform/cpu_feature_guard.cc:141] Your CPU supports instructions that this TensorFlow binary was not compiled to use: SSE4.1 SSE4.2 AVX AVX2 FMA\n",
      "2019-06-11 10:25:00.048176: I tensorflow/core/common_runtime/process_util.cc:69] Creating new thread pool with default inter op setting: 2. Tune using inter_op_parallelism_threads for best performance.\n"
     ]
    }
   ],
   "source": [
    "!python export_inference_graph.py --input_type image_tensor --pipeline_config_path ../../../train/training/ssd_mobilenet_v1_coco.config --output_directory ../../../train/inference_graph/ --trained_checkpoint_prefix $(python -c \"import os; print('../../../train/training/' + max(['.'.join(i.split('.')[:2]) for i in os.listdir('../../../train/training') if 'model.ckpt-' in i]))\")"
   ]
  },
  {
   "cell_type": "code",
   "execution_count": 16,
   "metadata": {},
   "outputs": [
    {
     "name": "stdout",
     "output_type": "stream",
     "text": [
      "/media/camivasz/D6E67D60E67D4233/Nowcasting/Notebook/models\n"
     ]
    }
   ],
   "source": [
    "%cd ../.."
   ]
  },
  {
   "cell_type": "markdown",
   "metadata": {},
   "source": [
    "## Using the trained model"
   ]
  },
  {
   "cell_type": "markdown",
   "metadata": {},
   "source": [
    "Necessary imports"
   ]
  },
  {
   "cell_type": "code",
   "execution_count": 20,
   "metadata": {
    "scrolled": true
   },
   "outputs": [],
   "source": [
    "import os\n",
    "import cv2\n",
    "import numpy as np\n",
    "import tensorflow as tf\n",
    "import sys\n",
    "import pandas as pd\n",
    "import datetime\n",
    "from tqdm import tqdm\n",
    "import cv2\n",
    "from matplotlib import pyplot as plt\n",
    "\n",
    "import os\n",
    "PATH = os.getcwd() + \"research/:\" + os.getcwd() + \"research/object_detection/:\" + os.getcwd() + \"research/slim/\"\n",
    "os.environ[\"PYTHONPATH\"] = PATH\n",
    "sys.path.append(os.getcwd() + \"/research/\") # NEW\n",
    "sys.path.append(os.getcwd() + \"/research/object_detection\")\n",
    "from research.object_detection.utils import label_map_util\n",
    "from research.object_detection.utils import visualization_utils as vis_util"
   ]
  },
  {
   "cell_type": "code",
   "execution_count": 21,
   "metadata": {},
   "outputs": [
    {
     "name": "stdout",
     "output_type": "stream",
     "text": [
      "/media/camivasz/D6E67D60E67D4233/Nowcasting/Notebook/train\n"
     ]
    }
   ],
   "source": [
    "%cd ../train"
   ]
  },
  {
   "cell_type": "code",
   "execution_count": 23,
   "metadata": {},
   "outputs": [],
   "source": [
    "# Name of the directory containing the object detection module we're using\n",
    "MODEL_NAME = 'inference_graph'\n",
    "\n",
    "# Grab path to current working directory\n",
    "CWD_PATH = os.getcwd()\n",
    "\n",
    "# Path to frozen detection graph .pb file, which contains the model that is used\n",
    "# for object detection.\n",
    "PATH_TO_CKPT = os.path.join(CWD_PATH,MODEL_NAME,'frozen_inference_graph.pb')\n",
    "\n",
    "# Path to label map file\n",
    "PATH_TO_LABELS = os.path.join(CWD_PATH,'training','labelmap.pbtxt')\n",
    "\n",
    "# Number of classes the object detector can identify\n",
    "NUM_CLASSES = 8"
   ]
  },
  {
   "cell_type": "code",
   "execution_count": 24,
   "metadata": {},
   "outputs": [],
   "source": [
    "label_map = label_map_util.load_labelmap(PATH_TO_LABELS)\n",
    "categories = label_map_util.convert_label_map_to_categories(label_map, max_num_classes=NUM_CLASSES, use_display_name=True)\n",
    "category_index = label_map_util.create_category_index(categories)\n",
    "\n",
    "# Load the Tensorflow model into memory.\n",
    "detection_graph = tf.Graph()\n",
    "with detection_graph.as_default():\n",
    "    od_graph_def = tf.GraphDef()\n",
    "    with tf.gfile.GFile(PATH_TO_CKPT, 'rb') as fid:\n",
    "        serialized_graph = fid.read()\n",
    "        od_graph_def.ParseFromString(serialized_graph)\n",
    "        tf.import_graph_def(od_graph_def, name='')\n",
    "\n",
    "    sess = tf.Session(graph=detection_graph)\n",
    "\n",
    "# Define input and output tensors (i.e. data) for the object detection classifier\n",
    "\n",
    "# Input tensor is the image\n",
    "image_tensor = detection_graph.get_tensor_by_name('image_tensor:0')\n",
    "\n",
    "# Output tensors are the detection boxes, scores, and classes\n",
    "# Each box represents a part of the image where a particular object was detected\n",
    "detection_boxes = detection_graph.get_tensor_by_name('detection_boxes:0')\n",
    "\n",
    "# Each score represents level of confidence for each of the objects.\n",
    "# The score is shown on the result image, together with the class label.\n",
    "detection_scores = detection_graph.get_tensor_by_name('detection_scores:0')\n",
    "detection_classes = detection_graph.get_tensor_by_name('detection_classes:0')\n",
    "\n",
    "# Number of objects detected\n",
    "num_detections = detection_graph.get_tensor_by_name('num_detections:0')"
   ]
  },
  {
   "cell_type": "markdown",
   "metadata": {},
   "source": [
    "#### Now, we will run the inference with a big set of images."
   ]
  },
  {
   "cell_type": "code",
   "execution_count": 25,
   "metadata": {},
   "outputs": [
    {
     "name": "stdout",
     "output_type": "stream",
     "text": [
      "/media/camivasz/D6E67D60E67D4233/Nowcasting/Notebook/val\n"
     ]
    }
   ],
   "source": [
    "%cd ../val"
   ]
  },
  {
   "cell_type": "code",
   "execution_count": 26,
   "metadata": {},
   "outputs": [
    {
     "name": "stdout",
     "output_type": "stream",
     "text": [
      "195\n"
     ]
    }
   ],
   "source": [
    "images = []\n",
    "for x in os.listdir('validation'):\n",
    "    if x[-3:] == 'jpg':\n",
    "        images.append(x)\n",
    "print(len(images))"
   ]
  },
  {
   "cell_type": "code",
   "execution_count": 27,
   "metadata": {},
   "outputs": [],
   "source": [
    "def load_image_into_numpy_array(image):\n",
    "    (im_width, im_height) = image.size\n",
    "    return np.array(image.getdata()).reshape(\n",
    "      (im_height, im_width, 3)).astype(np.uint8)"
   ]
  },
  {
   "cell_type": "code",
   "execution_count": 28,
   "metadata": {},
   "outputs": [],
   "source": [
    "def inference(img):\n",
    "    with tf.Session() as sess:\n",
    "        new_saver = tf.train.import_meta_graph('model.ckpt.meta')\n",
    "        new_saver.restore(sess, 'model.ckpt')\n",
    "\n",
    "        # Input tensor is the image\n",
    "        image_tensor = tf.get_default_graph().get_tensor_by_name(\"image_tensor:0\")\n",
    "\n",
    "        # Output tensors are the detection boxes, scores, and classes\n",
    "        # Each box represents a part of the image where a particular object was detected\n",
    "        detection_boxes = tf.get_default_graph().get_tensor_by_name('detection_boxes:0')\n",
    "\n",
    "        # Each score represents level of confidence for each of the objects.\n",
    "        # The score is shown on the result image, together with the class label.\n",
    "        detection_scores = tf.get_default_graph().get_tensor_by_name('detection_scores:0')\n",
    "        detection_classes = tf.get_default_graph().get_tensor_by_name('detection_classes:0')\n",
    "\n",
    "        # Number of objects detected\n",
    "        num_detections = tf.get_default_graph().get_tensor_by_name('num_detections:0')\n",
    "\n",
    "        image = cv2.imread(img)\n",
    "        image = cv2.resize(image,(100, 68)) \n",
    "        #image = cv2.cvtColor(image, cv2.COLOR_BGR2RGB)\n",
    "        image_expanded = np.expand_dims(image, axis=0)\n",
    "        (boxes, scores, classes, num) = sess.run(\n",
    "            [detection_boxes, detection_scores, detection_classes, num_detections],\n",
    "            feed_dict={image_tensor: image_expanded})"
   ]
  },
  {
   "cell_type": "code",
   "execution_count": 29,
   "metadata": {},
   "outputs": [
    {
     "name": "stderr",
     "output_type": "stream",
     "text": [
      "100%|██████████| 195/195 [00:15<00:00, 12.98it/s]\n"
     ]
    }
   ],
   "source": [
    "# Load image using OpenCV and\n",
    "# expand image dimensions to have shape: [1, None, None, 3]\n",
    "# i.e. a single-column array, where each item in the column has the pixel RGB value\n",
    "from collections import Counter\n",
    "import random\n",
    "from tqdm import tqdm\n",
    "\n",
    "th = 0.5\n",
    "\n",
    "bb = {}\n",
    "cc = [[] for _ in range(8)]\n",
    "dd = []\n",
    "categories = ['car', 'bus', 'camper', 'industrial', 'motorcycle', 'taxi', 'truck', 'van']\n",
    "\n",
    "for img in tqdm(images):\n",
    "    #print()\n",
    "    #date = datetime.datetime.strptime('-'.join(img.split('-')[1:])[:-4], '%m-%d-%H:%M')\n",
    "    date = img[:-4]#date.replace(year=2018)\n",
    "    dd.append(date)\n",
    "    image = cv2.imread('validation/'+img)\n",
    "    image_expanded = np.expand_dims(image, axis=0)\n",
    "    h, w, _ = image.shape\n",
    "    scale = np.array([h, w, h, w]).reshape(1, 1, 4) # NEW\n",
    "    (boxes, scores, classes, num) = sess.run(\n",
    "        [detection_boxes, detection_scores, detection_classes, num_detections],\n",
    "        feed_dict={image_tensor: image_expanded})\n",
    "    bb[img[:-4]] = (boxes[:,scores[0] > th,:] * scale, \n",
    "                    scores[0][scores[0] > th],\n",
    "                    classes[0][scores[0] > th].astype(np.int)) # NEW\n",
    "    counts = Counter(classes[0][scores[0] > th].astype(np.int))\n",
    "    for i in range(8):\n",
    "        cc[i].append(counts[i+1])\n",
    "    \n",
    "cs = pd.DataFrame(np.matrix(cc).transpose(), index=dd)\n",
    "cs.columns = categories\n",
    "cs.to_csv('counter.csv')"
   ]
  },
  {
   "cell_type": "markdown",
   "metadata": {},
   "source": [
    "Finally, this is the counting results from the objects in the images, in a csv."
   ]
  },
  {
   "cell_type": "code",
   "execution_count": 30,
   "metadata": {
    "scrolled": true
   },
   "outputs": [
    {
     "data": {
      "text/html": [
       "<div>\n",
       "<style scoped>\n",
       "    .dataframe tbody tr th:only-of-type {\n",
       "        vertical-align: middle;\n",
       "    }\n",
       "\n",
       "    .dataframe tbody tr th {\n",
       "        vertical-align: top;\n",
       "    }\n",
       "\n",
       "    .dataframe thead th {\n",
       "        text-align: right;\n",
       "    }\n",
       "</style>\n",
       "<table border=\"1\" class=\"dataframe\">\n",
       "  <thead>\n",
       "    <tr style=\"text-align: right;\">\n",
       "      <th></th>\n",
       "      <th>car</th>\n",
       "      <th>bus</th>\n",
       "      <th>camper</th>\n",
       "      <th>industrial</th>\n",
       "      <th>motorcycle</th>\n",
       "      <th>taxi</th>\n",
       "      <th>truck</th>\n",
       "      <th>van</th>\n",
       "    </tr>\n",
       "  </thead>\n",
       "  <tbody>\n",
       "    <tr>\n",
       "      <th>10-02-25-09:02</th>\n",
       "      <td>9</td>\n",
       "      <td>13</td>\n",
       "      <td>17</td>\n",
       "      <td>15</td>\n",
       "      <td>10</td>\n",
       "      <td>7</td>\n",
       "      <td>21</td>\n",
       "      <td>8</td>\n",
       "    </tr>\n",
       "    <tr>\n",
       "      <th>10-02-25-09:03</th>\n",
       "      <td>6</td>\n",
       "      <td>14</td>\n",
       "      <td>15</td>\n",
       "      <td>18</td>\n",
       "      <td>14</td>\n",
       "      <td>9</td>\n",
       "      <td>18</td>\n",
       "      <td>6</td>\n",
       "    </tr>\n",
       "    <tr>\n",
       "      <th>10-02-25-09:04</th>\n",
       "      <td>10</td>\n",
       "      <td>18</td>\n",
       "      <td>15</td>\n",
       "      <td>14</td>\n",
       "      <td>10</td>\n",
       "      <td>10</td>\n",
       "      <td>17</td>\n",
       "      <td>6</td>\n",
       "    </tr>\n",
       "    <tr>\n",
       "      <th>10-02-25-09:06</th>\n",
       "      <td>8</td>\n",
       "      <td>15</td>\n",
       "      <td>15</td>\n",
       "      <td>15</td>\n",
       "      <td>11</td>\n",
       "      <td>10</td>\n",
       "      <td>19</td>\n",
       "      <td>7</td>\n",
       "    </tr>\n",
       "    <tr>\n",
       "      <th>10-02-25-09:07</th>\n",
       "      <td>10</td>\n",
       "      <td>11</td>\n",
       "      <td>14</td>\n",
       "      <td>17</td>\n",
       "      <td>12</td>\n",
       "      <td>11</td>\n",
       "      <td>20</td>\n",
       "      <td>5</td>\n",
       "    </tr>\n",
       "  </tbody>\n",
       "</table>\n",
       "</div>"
      ],
      "text/plain": [
       "                car  bus  camper  industrial  motorcycle  taxi  truck  van\n",
       "10-02-25-09:02    9   13      17          15          10     7     21    8\n",
       "10-02-25-09:03    6   14      15          18          14     9     18    6\n",
       "10-02-25-09:04   10   18      15          14          10    10     17    6\n",
       "10-02-25-09:06    8   15      15          15          11    10     19    7\n",
       "10-02-25-09:07   10   11      14          17          12    11     20    5"
      ]
     },
     "execution_count": 30,
     "metadata": {},
     "output_type": "execute_result"
    }
   ],
   "source": [
    "cs.head()"
   ]
  },
  {
   "cell_type": "code",
   "execution_count": 31,
   "metadata": {},
   "outputs": [],
   "source": [
    "xml =[]\n",
    "for x in os.listdir('validation'):\n",
    "    if x[-3:] == 'xml':\n",
    "        xml.append(x)"
   ]
  },
  {
   "cell_type": "code",
   "execution_count": 32,
   "metadata": {},
   "outputs": [],
   "source": [
    "import xml.etree.ElementTree as ET\n",
    "import os\n",
    "import datetime\n",
    "\n",
    "y_true = cs.copy() * 0\n",
    "\n",
    "for files in xml:\n",
    "    tree = ET.parse('validation/' + files)\n",
    "    root = tree.getroot()\n",
    "    for mem in root.findall('object'):\n",
    "        date, typ = files, mem[0].text\n",
    "        if typ == 'ar':\n",
    "            typ = 'car'\n",
    "        try:\n",
    "            y_true[typ][date[:-4]] += 1\n",
    "        except:\n",
    "            continue"
   ]
  },
  {
   "cell_type": "code",
   "execution_count": 33,
   "metadata": {},
   "outputs": [
    {
     "data": {
      "text/plain": [
       "car           0.005128\n",
       "bus           0.000000\n",
       "camper        0.000000\n",
       "industrial    0.000000\n",
       "motorcycle    0.000000\n",
       "taxi          0.000000\n",
       "truck         0.000000\n",
       "van           0.000000\n",
       "dtype: float64"
      ]
     },
     "execution_count": 33,
     "metadata": {},
     "output_type": "execute_result"
    }
   ],
   "source": [
    "(y_true == cs).mean()"
   ]
  },
  {
   "cell_type": "code",
   "execution_count": 34,
   "metadata": {
    "scrolled": true
   },
   "outputs": [
    {
     "data": {
      "text/plain": [
       "0.0"
      ]
     },
     "execution_count": 34,
     "metadata": {},
     "output_type": "execute_result"
    }
   ],
   "source": [
    "(y_true.sum(axis=1) == cs.sum(axis=1)).mean() * 100"
   ]
  },
  {
   "cell_type": "code",
   "execution_count": 35,
   "metadata": {},
   "outputs": [
    {
     "data": {
      "text/plain": [
       "0.0"
      ]
     },
     "execution_count": 35,
     "metadata": {},
     "output_type": "execute_result"
    }
   ],
   "source": [
    "(y_true.sum(axis=1) > cs.sum(axis=1)).mean() * 100"
   ]
  },
  {
   "cell_type": "code",
   "execution_count": 36,
   "metadata": {
    "scrolled": false
   },
   "outputs": [
    {
     "data": {
      "text/plain": [
       "car           0.005128\n",
       "bus           0.000000\n",
       "camper        0.000000\n",
       "industrial    0.000000\n",
       "motorcycle    0.000000\n",
       "taxi          0.000000\n",
       "truck         0.000000\n",
       "van           0.000000\n",
       "dtype: float64"
      ]
     },
     "execution_count": 36,
     "metadata": {},
     "output_type": "execute_result"
    }
   ],
   "source": [
    "(y_true == cs).mean()"
   ]
  },
  {
   "cell_type": "code",
   "execution_count": 37,
   "metadata": {},
   "outputs": [
    {
     "data": {
      "text/plain": [
       "car           1840\n",
       "bus           2457\n",
       "camper        2954\n",
       "industrial    2769\n",
       "motorcycle    2730\n",
       "taxi          2454\n",
       "truck         3412\n",
       "van            884\n",
       "dtype: int64"
      ]
     },
     "execution_count": 37,
     "metadata": {},
     "output_type": "execute_result"
    }
   ],
   "source": [
    "cs.sum()"
   ]
  },
  {
   "cell_type": "code",
   "execution_count": 39,
   "metadata": {},
   "outputs": [
    {
     "data": {
      "text/plain": [
       "car           481\n",
       "bus            74\n",
       "camper        167\n",
       "industrial      4\n",
       "motorcycle    341\n",
       "taxi          190\n",
       "truck         173\n",
       "van            29\n",
       "dtype: int64"
      ]
     },
     "execution_count": 39,
     "metadata": {},
     "output_type": "execute_result"
    }
   ],
   "source": [
    "y_true.sum()"
   ]
  },
  {
   "cell_type": "code",
   "execution_count": 40,
   "metadata": {
    "scrolled": true
   },
   "outputs": [
    {
     "data": {
      "text/plain": [
       "car            -282.536383\n",
       "bus           -3220.270270\n",
       "camper        -1668.862275\n",
       "industrial   -69125.000000\n",
       "motorcycle     -700.586510\n",
       "taxi          -1191.578947\n",
       "truck         -1872.254335\n",
       "van           -2948.275862\n",
       "dtype: float64"
      ]
     },
     "execution_count": 40,
     "metadata": {},
     "output_type": "execute_result"
    }
   ],
   "source": [
    "(y_true.sum() - cs.sum())/y_true.sum() * 100"
   ]
  },
  {
   "cell_type": "markdown",
   "metadata": {},
   "source": [
    "# Validación"
   ]
  },
  {
   "cell_type": "code",
   "execution_count": 41,
   "metadata": {},
   "outputs": [
    {
     "name": "stdout",
     "output_type": "stream",
     "text": [
      "mkdir: cannot create directory ‘detections’: File exists\n",
      "/media/camivasz/D6E67D60E67D4233/Nowcasting/Notebook/val/detections\n"
     ]
    }
   ],
   "source": [
    "%mkdir detections\n",
    "%cd detections"
   ]
  },
  {
   "cell_type": "code",
   "execution_count": 47,
   "metadata": {},
   "outputs": [],
   "source": [
    "k = '10-02-25-09:09'\n",
    "v = bb[k]\n",
    "for k, v in bb.items():\n",
    "    #<class_name> <confidence> <left> <top> <right> <bottom>\n",
    "    tmp = pd.DataFrame()\n",
    "\n",
    "    box, confidence, class_name = v\n",
    "    box.astype(np.int)\n",
    "    ymin = box[0,:,0]\n",
    "    xmin = box[0,:,1]\n",
    "    ymax = box[0,:,2]\n",
    "    xmax = box[0,:,3]\n",
    "    \n",
    "    tmp['class_name'] = np.array(categories)[class_name - 1]\n",
    "    tmp['confidence'] = confidence\n",
    "    tmp['left'] = xmin\n",
    "    tmp['top'] = ymax\n",
    "    tmp['right'] = xmax\n",
    "    tmp['bottom'] = ymin\n",
    "    \n",
    "    tmp.to_csv(path_or_buf=k + '.txt', header=False, index=False, sep=' ')"
   ]
  },
  {
   "cell_type": "code",
   "execution_count": 52,
   "metadata": {},
   "outputs": [
    {
     "name": "stdout",
     "output_type": "stream",
     "text": [
      "/media/camivasz/D6E67D60E67D4233/Nowcasting/Notebook/val\n",
      "Successfully converted xml to csv.\n"
     ]
    }
   ],
   "source": [
    "%cd ..\n",
    "!python xml_to_csv.py"
   ]
  },
  {
   "cell_type": "code",
   "execution_count": 53,
   "metadata": {},
   "outputs": [],
   "source": [
    "val = pd.read_csv('validation_labels.csv',index_col =0)"
   ]
  },
  {
   "cell_type": "code",
   "execution_count": 54,
   "metadata": {},
   "outputs": [
    {
     "name": "stdout",
     "output_type": "stream",
     "text": [
      "mkdir: cannot create directory ‘groundtruths/’: File exists\n",
      "/media/camivasz/D6E67D60E67D4233/Nowcasting/Notebook/val/groundtruths\n"
     ]
    }
   ],
   "source": [
    "%mkdir groundtruths/\n",
    "%cd groundtruths/"
   ]
  },
  {
   "cell_type": "code",
   "execution_count": 65,
   "metadata": {},
   "outputs": [],
   "source": [
    "import csv \n",
    "for k in bb.keys():\n",
    "    # <class_name> <left> <top> <right> <bottom>\n",
    "    try:\n",
    "        tmp = val.loc[k][['class', 'xmin', 'ymax', 'xmax', 'ymin']]\n",
    "        try:\n",
    "            tmp.to_csv(path_or_buf=k + '.txt', header=False, index=False, sep=' ')\n",
    "        except:\n",
    "            tmp.to_frame().transpose().to_csv(path_or_buf=k + '.txt', header=False, index=False, line_terminator=' ')        \n",
    "    except:\n",
    "        print(k)"
   ]
  },
  {
   "cell_type": "code",
   "execution_count": 57,
   "metadata": {},
   "outputs": [
    {
     "name": "stdout",
     "output_type": "stream",
     "text": [
      "/media/camivasz/D6E67D60E67D4233/Nowcasting/Notebook/val\n",
      "Cloning into 'Object-Detection-Metrics'...\n",
      "remote: Enumerating objects: 15, done.\u001b[K\n",
      "remote: Counting objects: 100% (15/15), done.\u001b[K\n",
      "remote: Compressing objects: 100% (15/15), done.\u001b[K\n",
      "remote: Total 411 (delta 7), reused 3 (delta 0), pack-reused 396\u001b[K\n",
      "Receiving objects: 100% (411/411), 2.65 MiB | 2.84 MiB/s, done.\n",
      "Resolving deltas: 100% (171/171), done.\n"
     ]
    }
   ],
   "source": [
    "%cd ..\n",
    "!git clone https://github.com/rafaelpadilla/Object-Detection-Metrics"
   ]
  },
  {
   "cell_type": "code",
   "execution_count": 68,
   "metadata": {
    "scrolled": true
   },
   "outputs": [
    {
     "name": "stdout",
     "output_type": "stream",
     "text": [
      "[Errno 2] No such file or directory: 'Object-Detection-Metrics'\n",
      "/media/camivasz/D6E67D60E67D4233/Nowcasting/Notebook/val/Object-Detection-Metrics\n",
      "Figure(640x480)\n",
      "Figure(640x480)\n",
      "Figure(640x480)\n",
      "Figure(640x480)\n",
      "Figure(640x480)\n",
      "Figure(640x480)\n",
      "Figure(640x480)\n",
      "Figure(640x480)\n",
      "Figure(640x480)\n",
      "AP: 0.00% (ar)\n",
      "AP: 0.05% (bus)\n",
      "AP: 0.08% (camper)\n",
      "AP: 0.28% (car)\n",
      "AP: 0.00% (industrial)\n",
      "AP: 0.17% (motorcycle)\n",
      "AP: 0.03% (taxi)\n",
      "AP: 0.15% (truck)\n",
      "AP: 0.11% (van)\n",
      "mAP: 0.10%\n"
     ]
    }
   ],
   "source": [
    "%cd Object-Detection-Metrics\n",
    "!python pascalvoc.py -gt ../groundtruths/ -det ../detections/"
   ]
  },
  {
   "cell_type": "code",
   "execution_count": 69,
   "metadata": {},
   "outputs": [
    {
     "name": "stdout",
     "output_type": "stream",
     "text": [
      "/media/camivasz/D6E67D60E67D4233/Nowcasting/Notebook/val/Object-Detection-Metrics/results\n"
     ]
    }
   ],
   "source": [
    "cd results/"
   ]
  },
  {
   "cell_type": "code",
   "execution_count": 70,
   "metadata": {},
   "outputs": [
    {
     "data": {
      "image/png": "[encoded data removed]",
      "text/plain": [
       "<Figure size 432x288 with 1 Axes>"
      ]
     },
     "metadata": {
      "needs_background": "light"
     },
     "output_type": "display_data"
    },
    {
     "data": {
      "image/png": "[encoded data removed]",
      "text/plain": [
       "<Figure size 432x288 with 1 Axes>"
      ]
     },
     "metadata": {
      "needs_background": "light"
     },
     "output_type": "display_data"
    },
    {
     "data": {
      "image/png": "[encoded data removed]",
      "text/plain": [
       "<Figure size 432x288 with 1 Axes>"
      ]
     },
     "metadata": {
      "needs_background": "light"
     },
     "output_type": "display_data"
    },
    {
     "data": {
      "image/png": "[encoded data removed]",
      "text/plain": [
       "<Figure size 432x288 with 1 Axes>"
      ]
     },
     "metadata": {
      "needs_background": "light"
     },
     "output_type": "display_data"
    }
   ],
   "source": [
    "a = cv2.imread('car.png')\n",
    "b = cv2.imread('truck.png')\n",
    "c = cv2.imread('motorcycle.png')\n",
    "d = cv2.imread('taxi.png')\n",
    "plt.imshow(a)\n",
    "plt.show()\n",
    "plt.imshow(b)\n",
    "plt.show()\n",
    "plt.imshow(c)\n",
    "plt.show()\n",
    "plt.imshow(d)\n",
    "plt.show()"
   ]
  },
  {
   "cell_type": "code",
   "execution_count": null,
   "metadata": {},
   "outputs": [],
   "source": []
  },
  {
   "cell_type": "code",
   "execution_count": null,
   "metadata": {},
   "outputs": [],
   "source": []
  }
 ],
 "metadata": {
  "kernelspec": {
   "display_name": "Python 3",
   "language": "python",
   "name": "python3"
  },
  "language_info": {
   "codemirror_mode": {
    "name": "ipython",
    "version": 3
   },
   "file_extension": ".py",
   "mimetype": "text/x-python",
   "name": "python",
   "nbconvert_exporter": "python",
   "pygments_lexer": "ipython3",
   "version": "3.6.8"
  }
 },
 "nbformat": 4,
 "nbformat_minor": 2
}
